{
  "cells": [
    {
      "cell_type": "markdown",
      "id": "56cbb46b",
      "metadata": {
        "id": "56cbb46b",
        "papermill": {
          "duration": 0.067547,
          "end_time": "2022-10-06T21:15:05.061310",
          "exception": false,
          "start_time": "2022-10-06T21:15:04.993763",
          "status": "completed"
        },
        "tags": []
      },
      "source": [
        "# Classification des types de diabètes"
      ]
    },
    {
      "cell_type": "markdown",
      "id": "4b7a99b3",
      "metadata": {
        "id": "4b7a99b3",
        "papermill": {
          "duration": 0.061703,
          "end_time": "2022-10-06T21:15:05.190140",
          "exception": false,
          "start_time": "2022-10-06T21:15:05.128437",
          "status": "completed"
        },
        "tags": []
      },
      "source": [
        "## Objectifs:\n",
        "\n",
        "### Nous essayons de construire un modèle qui prédit le diabète chez les patients.\n"
      ]
    },
    {
      "cell_type": "code",
      "execution_count": 2,
      "id": "e29264f7",
      "metadata": {
        "execution": {
          "iopub.execute_input": "2022-10-06T21:15:05.316736Z",
          "iopub.status.busy": "2022-10-06T21:15:05.316259Z",
          "iopub.status.idle": "2022-10-06T21:15:06.907166Z",
          "shell.execute_reply": "2022-10-06T21:15:06.906255Z"
        },
        "id": "e29264f7",
        "papermill": {
          "duration": 1.65804,
          "end_time": "2022-10-06T21:15:06.909820",
          "exception": false,
          "start_time": "2022-10-06T21:15:05.251780",
          "status": "completed"
        },
        "tags": []
      },
      "outputs": [],
      "source": [
        "import warnings\n",
        "import numpy as np\n",
        "import pandas as pd\n",
        "import seaborn as sns\n",
        "from sklearn import svm\n",
        "from sklearn.metrics import f1_score\n",
        "\n",
        "from imblearn.over_sampling import SMOTE\n",
        "\n",
        "\n",
        "import matplotlib.pyplot as plt\n",
        "\n",
        "from sklearn import linear_model\n",
        "\n",
        "from sklearn.linear_model import LogisticRegression\n",
        "from sklearn.tree  import DecisionTreeClassifier\n",
        "from sklearn.ensemble import RandomForestClassifier\n",
        "\n",
        "from sklearn import tree\n",
        "from sklearn.metrics import accuracy_score\n",
        "from sklearn.metrics import f1_score,  recall_score, precision_score, RocCurveDisplay, roc_curve, roc_auc_score\n",
        "from sklearn.model_selection import cross_val_predict\n",
        "from sklearn.model_selection import cross_val_score\n",
        "\n",
        "from sklearn.metrics import classification_report\n",
        "from sklearn.model_selection import train_test_split\n",
        "\n",
        "from sklearn.feature_selection import SelectPercentile\n",
        "from sklearn.feature_selection import chi2 , f_classif\n",
        "\n",
        "from sklearn.metrics import mean_absolute_error,r2_score,mean_squared_error\n",
        "from sklearn.feature_selection import RFE\n",
        "warnings.filterwarnings('ignore')"
      ]
    },
    {
      "cell_type": "code",
      "execution_count": 3,
      "id": "e07df891",
      "metadata": {
        "execution": {
          "iopub.execute_input": "2022-10-06T21:15:07.037182Z",
          "iopub.status.busy": "2022-10-06T21:15:07.036431Z",
          "iopub.status.idle": "2022-10-06T21:15:07.944979Z",
          "shell.execute_reply": "2022-10-06T21:15:07.944072Z"
        },
        "id": "e07df891",
        "papermill": {
          "duration": 0.976232,
          "end_time": "2022-10-06T21:15:07.947625",
          "exception": false,
          "start_time": "2022-10-06T21:15:06.971393",
          "status": "completed"
        },
        "tags": []
      },
      "outputs": [],
      "source": [
        "data = pd.read_csv('../data/data_train_diabetes_health_indicators.csv')\n",
        "test_data = pd.read_csv('../data/date_validation_diabetes_health_indicators.csv')"
      ]
    },
    {
      "cell_type": "markdown",
      "id": "264dcc4e",
      "metadata": {
        "id": "264dcc4e",
        "papermill": {
          "duration": 0.06436,
          "end_time": "2022-10-06T21:15:08.230195",
          "exception": false,
          "start_time": "2022-10-06T21:15:08.165835",
          "status": "completed"
        },
        "tags": []
      },
      "source": [
        "# Analyse exploratoire des données (EDA)"
      ]
    },
    {
      "cell_type": "code",
      "execution_count": 4,
      "id": "0ddd1284",
      "metadata": {
        "colab": {
          "base_uri": "https://localhost:8080/",
          "height": 273
        },
        "execution": {
          "iopub.execute_input": "2022-10-06T21:15:08.476689Z",
          "iopub.status.busy": "2022-10-06T21:15:08.476318Z",
          "iopub.status.idle": "2022-10-06T21:15:08.516687Z",
          "shell.execute_reply": "2022-10-06T21:15:08.515349Z"
        },
        "id": "0ddd1284",
        "outputId": "16d5bfeb-bd35-496c-a1b5-84c3f59ad421",
        "papermill": {
          "duration": 0.105248,
          "end_time": "2022-10-06T21:15:08.519344",
          "exception": false,
          "start_time": "2022-10-06T21:15:08.414096",
          "status": "completed"
        },
        "scrolled": true,
        "tags": []
      },
      "outputs": [
        {
          "data": {
            "text/html": [
              "<div>\n",
              "<style scoped>\n",
              "    .dataframe tbody tr th:only-of-type {\n",
              "        vertical-align: middle;\n",
              "    }\n",
              "\n",
              "    .dataframe tbody tr th {\n",
              "        vertical-align: top;\n",
              "    }\n",
              "\n",
              "    .dataframe thead th {\n",
              "        text-align: right;\n",
              "    }\n",
              "</style>\n",
              "<table border=\"1\" class=\"dataframe\">\n",
              "  <thead>\n",
              "    <tr style=\"text-align: right;\">\n",
              "      <th></th>\n",
              "      <th>Unnamed: 0</th>\n",
              "      <th>Diabetes_012</th>\n",
              "      <th>HighBP</th>\n",
              "      <th>HighChol</th>\n",
              "      <th>CholCheck</th>\n",
              "      <th>BMI</th>\n",
              "      <th>Smoker</th>\n",
              "      <th>Stroke</th>\n",
              "      <th>HeartDiseaseorAttack</th>\n",
              "      <th>PhysActivity</th>\n",
              "      <th>...</th>\n",
              "      <th>AnyHealthcare</th>\n",
              "      <th>NoDocbcCost</th>\n",
              "      <th>GenHlth</th>\n",
              "      <th>MentHlth</th>\n",
              "      <th>PhysHlth</th>\n",
              "      <th>DiffWalk</th>\n",
              "      <th>Sex</th>\n",
              "      <th>Age</th>\n",
              "      <th>Education</th>\n",
              "      <th>Income</th>\n",
              "    </tr>\n",
              "  </thead>\n",
              "  <tbody>\n",
              "    <tr>\n",
              "      <th>0</th>\n",
              "      <td>111866</td>\n",
              "      <td>2</td>\n",
              "      <td>1</td>\n",
              "      <td>1.0</td>\n",
              "      <td>1</td>\n",
              "      <td>32.0</td>\n",
              "      <td>1.0</td>\n",
              "      <td>0.0</td>\n",
              "      <td>1.0</td>\n",
              "      <td>1</td>\n",
              "      <td>...</td>\n",
              "      <td>1</td>\n",
              "      <td>0.0</td>\n",
              "      <td>2.0</td>\n",
              "      <td>15.0</td>\n",
              "      <td>0.0</td>\n",
              "      <td>0.0</td>\n",
              "      <td>1</td>\n",
              "      <td>7</td>\n",
              "      <td>6.0</td>\n",
              "      <td>6.0</td>\n",
              "    </tr>\n",
              "    <tr>\n",
              "      <th>1</th>\n",
              "      <td>206199</td>\n",
              "      <td>0</td>\n",
              "      <td>0</td>\n",
              "      <td>1.0</td>\n",
              "      <td>1</td>\n",
              "      <td>28.0</td>\n",
              "      <td>0.0</td>\n",
              "      <td>0.0</td>\n",
              "      <td>0.0</td>\n",
              "      <td>0</td>\n",
              "      <td>...</td>\n",
              "      <td>1</td>\n",
              "      <td>0.0</td>\n",
              "      <td>4.0</td>\n",
              "      <td>4.0</td>\n",
              "      <td>30.0</td>\n",
              "      <td>0.0</td>\n",
              "      <td>0</td>\n",
              "      <td>10</td>\n",
              "      <td>6.0</td>\n",
              "      <td>7.0</td>\n",
              "    </tr>\n",
              "    <tr>\n",
              "      <th>2</th>\n",
              "      <td>144211</td>\n",
              "      <td>0</td>\n",
              "      <td>0</td>\n",
              "      <td>1.0</td>\n",
              "      <td>1</td>\n",
              "      <td>24.0</td>\n",
              "      <td>1.0</td>\n",
              "      <td>0.0</td>\n",
              "      <td>0.0</td>\n",
              "      <td>1</td>\n",
              "      <td>...</td>\n",
              "      <td>1</td>\n",
              "      <td>0.0</td>\n",
              "      <td>2.0</td>\n",
              "      <td>0.0</td>\n",
              "      <td>0.0</td>\n",
              "      <td>0.0</td>\n",
              "      <td>0</td>\n",
              "      <td>12</td>\n",
              "      <td>5.0</td>\n",
              "      <td>6.0</td>\n",
              "    </tr>\n",
              "    <tr>\n",
              "      <th>3</th>\n",
              "      <td>89872</td>\n",
              "      <td>2</td>\n",
              "      <td>1</td>\n",
              "      <td>1.0</td>\n",
              "      <td>1</td>\n",
              "      <td>38.0</td>\n",
              "      <td>0.0</td>\n",
              "      <td>0.0</td>\n",
              "      <td>0.0</td>\n",
              "      <td>1</td>\n",
              "      <td>...</td>\n",
              "      <td>1</td>\n",
              "      <td>0.0</td>\n",
              "      <td>3.0</td>\n",
              "      <td>0.0</td>\n",
              "      <td>0.0</td>\n",
              "      <td>0.0</td>\n",
              "      <td>1</td>\n",
              "      <td>7</td>\n",
              "      <td>6.0</td>\n",
              "      <td>8.0</td>\n",
              "    </tr>\n",
              "    <tr>\n",
              "      <th>4</th>\n",
              "      <td>34953</td>\n",
              "      <td>0</td>\n",
              "      <td>0</td>\n",
              "      <td>1.0</td>\n",
              "      <td>1</td>\n",
              "      <td>30.0</td>\n",
              "      <td>0.0</td>\n",
              "      <td>0.0</td>\n",
              "      <td>0.0</td>\n",
              "      <td>0</td>\n",
              "      <td>...</td>\n",
              "      <td>0</td>\n",
              "      <td>1.0</td>\n",
              "      <td>4.0</td>\n",
              "      <td>10.0</td>\n",
              "      <td>0.0</td>\n",
              "      <td>0.0</td>\n",
              "      <td>0</td>\n",
              "      <td>5</td>\n",
              "      <td>3.0</td>\n",
              "      <td>7.0</td>\n",
              "    </tr>\n",
              "  </tbody>\n",
              "</table>\n",
              "<p>5 rows × 23 columns</p>\n",
              "</div>"
            ],
            "text/plain": [
              "   Unnamed: 0  Diabetes_012  HighBP  HighChol  CholCheck   BMI  Smoker  \\\n",
              "0      111866             2       1       1.0          1  32.0     1.0   \n",
              "1      206199             0       0       1.0          1  28.0     0.0   \n",
              "2      144211             0       0       1.0          1  24.0     1.0   \n",
              "3       89872             2       1       1.0          1  38.0     0.0   \n",
              "4       34953             0       0       1.0          1  30.0     0.0   \n",
              "\n",
              "   Stroke  HeartDiseaseorAttack  PhysActivity  ...  AnyHealthcare  \\\n",
              "0     0.0                   1.0             1  ...              1   \n",
              "1     0.0                   0.0             0  ...              1   \n",
              "2     0.0                   0.0             1  ...              1   \n",
              "3     0.0                   0.0             1  ...              1   \n",
              "4     0.0                   0.0             0  ...              0   \n",
              "\n",
              "   NoDocbcCost  GenHlth  MentHlth  PhysHlth  DiffWalk  Sex  Age  Education  \\\n",
              "0          0.0      2.0      15.0       0.0       0.0    1    7        6.0   \n",
              "1          0.0      4.0       4.0      30.0       0.0    0   10        6.0   \n",
              "2          0.0      2.0       0.0       0.0       0.0    0   12        5.0   \n",
              "3          0.0      3.0       0.0       0.0       0.0    1    7        6.0   \n",
              "4          1.0      4.0      10.0       0.0       0.0    0    5        3.0   \n",
              "\n",
              "   Income  \n",
              "0     6.0  \n",
              "1     7.0  \n",
              "2     6.0  \n",
              "3     8.0  \n",
              "4     7.0  \n",
              "\n",
              "[5 rows x 23 columns]"
            ]
          },
          "execution_count": 4,
          "metadata": {},
          "output_type": "execute_result"
        }
      ],
      "source": [
        "data.head()"
      ]
    },
    {
      "cell_type": "markdown",
      "id": "94A7UgQOspQ6",
      "metadata": {
        "id": "94A7UgQOspQ6"
      },
      "source": [
        "drop first column (useless)"
      ]
    },
    {
      "cell_type": "code",
      "execution_count": 5,
      "id": "-DorkX3ysroO",
      "metadata": {
        "id": "-DorkX3ysroO"
      },
      "outputs": [],
      "source": [
        "data.drop('Unnamed: 0', axis=1, inplace=True)"
      ]
    },
    {
      "cell_type": "code",
      "execution_count": 6,
      "id": "103bf88b",
      "metadata": {
        "colab": {
          "base_uri": "https://localhost:8080/"
        },
        "execution": {
          "iopub.execute_input": "2022-10-06T21:15:08.708120Z",
          "iopub.status.busy": "2022-10-06T21:15:08.707749Z",
          "iopub.status.idle": "2022-10-06T21:15:08.714156Z",
          "shell.execute_reply": "2022-10-06T21:15:08.713041Z"
        },
        "id": "103bf88b",
        "outputId": "f2e62d3d-6a02-4ba4-e7a1-a062c5af0d95",
        "papermill": {
          "duration": 0.135944,
          "end_time": "2022-10-06T21:15:08.716489",
          "exception": false,
          "start_time": "2022-10-06T21:15:08.580545",
          "status": "completed"
        },
        "tags": []
      },
      "outputs": [
        {
          "data": {
            "text/plain": [
              "(47276, 22)"
            ]
          },
          "execution_count": 6,
          "metadata": {},
          "output_type": "execute_result"
        }
      ],
      "source": [
        "data.shape"
      ]
    },
    {
      "cell_type": "code",
      "execution_count": 7,
      "id": "89e8299b",
      "metadata": {
        "colab": {
          "base_uri": "https://localhost:8080/"
        },
        "execution": {
          "iopub.execute_input": "2022-10-06T21:15:08.841583Z",
          "iopub.status.busy": "2022-10-06T21:15:08.840801Z",
          "iopub.status.idle": "2022-10-06T21:15:08.879975Z",
          "shell.execute_reply": "2022-10-06T21:15:08.878611Z"
        },
        "id": "89e8299b",
        "outputId": "252ea59f-cbb9-4fc9-a4ea-fcebeb3a8968",
        "papermill": {
          "duration": 0.104484,
          "end_time": "2022-10-06T21:15:08.882903",
          "exception": false,
          "start_time": "2022-10-06T21:15:08.778419",
          "status": "completed"
        },
        "tags": []
      },
      "outputs": [
        {
          "name": "stdout",
          "output_type": "stream",
          "text": [
            "<class 'pandas.core.frame.DataFrame'>\n",
            "RangeIndex: 47276 entries, 0 to 47275\n",
            "Data columns (total 22 columns):\n",
            " #   Column                Non-Null Count  Dtype  \n",
            "---  ------                --------------  -----  \n",
            " 0   Diabetes_012          47276 non-null  int64  \n",
            " 1   HighBP                47276 non-null  int64  \n",
            " 2   HighChol              47276 non-null  float64\n",
            " 3   CholCheck             47276 non-null  int64  \n",
            " 4   BMI                   47276 non-null  float64\n",
            " 5   Smoker                47276 non-null  float64\n",
            " 6   Stroke                47276 non-null  float64\n",
            " 7   HeartDiseaseorAttack  47276 non-null  float64\n",
            " 8   PhysActivity          47276 non-null  int64  \n",
            " 9   Fruits                47276 non-null  int64  \n",
            " 10  Veggies               47276 non-null  int64  \n",
            " 11  HvyAlcoholConsump     47276 non-null  int64  \n",
            " 12  AnyHealthcare         47276 non-null  int64  \n",
            " 13  NoDocbcCost           47276 non-null  float64\n",
            " 14  GenHlth               47276 non-null  float64\n",
            " 15  MentHlth              47276 non-null  float64\n",
            " 16  PhysHlth              47276 non-null  float64\n",
            " 17  DiffWalk              47276 non-null  float64\n",
            " 18  Sex                   47276 non-null  int64  \n",
            " 19  Age                   47276 non-null  int64  \n",
            " 20  Education             47276 non-null  float64\n",
            " 21  Income                47276 non-null  float64\n",
            "dtypes: float64(12), int64(10)\n",
            "memory usage: 7.9 MB\n"
          ]
        }
      ],
      "source": [
        "data.info()"
      ]
    },
    {
      "cell_type": "code",
      "execution_count": 8,
      "id": "5525bd33",
      "metadata": {
        "colab": {
          "base_uri": "https://localhost:8080/"
        },
        "execution": {
          "iopub.execute_input": "2022-10-06T21:15:09.134213Z",
          "iopub.status.busy": "2022-10-06T21:15:09.132941Z",
          "iopub.status.idle": "2022-10-06T21:15:09.140319Z",
          "shell.execute_reply": "2022-10-06T21:15:09.139407Z"
        },
        "id": "5525bd33",
        "outputId": "72fd2b2b-4d26-4542-e735-c1ffd1845f53",
        "papermill": {
          "duration": 0.073752,
          "end_time": "2022-10-06T21:15:09.142576",
          "exception": false,
          "start_time": "2022-10-06T21:15:09.068824",
          "status": "completed"
        },
        "tags": []
      },
      "outputs": [
        {
          "data": {
            "text/plain": [
              "Index(['Diabetes_012', 'HighBP', 'HighChol', 'CholCheck', 'BMI', 'Smoker',\n",
              "       'Stroke', 'HeartDiseaseorAttack', 'PhysActivity', 'Fruits', 'Veggies',\n",
              "       'HvyAlcoholConsump', 'AnyHealthcare', 'NoDocbcCost', 'GenHlth',\n",
              "       'MentHlth', 'PhysHlth', 'DiffWalk', 'Sex', 'Age', 'Education',\n",
              "       'Income'],\n",
              "      dtype='object')"
            ]
          },
          "execution_count": 8,
          "metadata": {},
          "output_type": "execute_result"
        }
      ],
      "source": [
        "data.columns"
      ]
    },
    {
      "cell_type": "code",
      "execution_count": 9,
      "id": "973e8b5c",
      "metadata": {
        "colab": {
          "base_uri": "https://localhost:8080/",
          "height": 349
        },
        "execution": {
          "iopub.execute_input": "2022-10-06T21:15:09.270232Z",
          "iopub.status.busy": "2022-10-06T21:15:09.269604Z",
          "iopub.status.idle": "2022-10-06T21:15:09.549991Z",
          "shell.execute_reply": "2022-10-06T21:15:09.548464Z"
        },
        "id": "973e8b5c",
        "outputId": "783b6861-fc6f-44dc-e118-e1538c087b45",
        "papermill": {
          "duration": 0.347503,
          "end_time": "2022-10-06T21:15:09.553656",
          "exception": false,
          "start_time": "2022-10-06T21:15:09.206153",
          "status": "completed"
        },
        "tags": []
      },
      "outputs": [
        {
          "data": {
            "text/html": [
              "<div>\n",
              "<style scoped>\n",
              "    .dataframe tbody tr th:only-of-type {\n",
              "        vertical-align: middle;\n",
              "    }\n",
              "\n",
              "    .dataframe tbody tr th {\n",
              "        vertical-align: top;\n",
              "    }\n",
              "\n",
              "    .dataframe thead th {\n",
              "        text-align: right;\n",
              "    }\n",
              "</style>\n",
              "<table border=\"1\" class=\"dataframe\">\n",
              "  <thead>\n",
              "    <tr style=\"text-align: right;\">\n",
              "      <th></th>\n",
              "      <th>Diabetes_012</th>\n",
              "      <th>HighBP</th>\n",
              "      <th>HighChol</th>\n",
              "      <th>CholCheck</th>\n",
              "      <th>BMI</th>\n",
              "      <th>Smoker</th>\n",
              "      <th>Stroke</th>\n",
              "      <th>HeartDiseaseorAttack</th>\n",
              "      <th>PhysActivity</th>\n",
              "      <th>Fruits</th>\n",
              "      <th>...</th>\n",
              "      <th>AnyHealthcare</th>\n",
              "      <th>NoDocbcCost</th>\n",
              "      <th>GenHlth</th>\n",
              "      <th>MentHlth</th>\n",
              "      <th>PhysHlth</th>\n",
              "      <th>DiffWalk</th>\n",
              "      <th>Sex</th>\n",
              "      <th>Age</th>\n",
              "      <th>Education</th>\n",
              "      <th>Income</th>\n",
              "    </tr>\n",
              "  </thead>\n",
              "  <tbody>\n",
              "    <tr>\n",
              "      <th>count</th>\n",
              "      <td>47276.000000</td>\n",
              "      <td>47276.000000</td>\n",
              "      <td>47276.000000</td>\n",
              "      <td>47276.000000</td>\n",
              "      <td>47276.000000</td>\n",
              "      <td>47276.000000</td>\n",
              "      <td>47276.000000</td>\n",
              "      <td>47276.000000</td>\n",
              "      <td>47276.000000</td>\n",
              "      <td>47276.000000</td>\n",
              "      <td>...</td>\n",
              "      <td>47276.000000</td>\n",
              "      <td>47276.000000</td>\n",
              "      <td>47276.000000</td>\n",
              "      <td>47276.000000</td>\n",
              "      <td>47276.000000</td>\n",
              "      <td>47276.000000</td>\n",
              "      <td>47276.000000</td>\n",
              "      <td>47276.000000</td>\n",
              "      <td>47276.000000</td>\n",
              "      <td>47276.000000</td>\n",
              "    </tr>\n",
              "    <tr>\n",
              "      <th>mean</th>\n",
              "      <td>0.305800</td>\n",
              "      <td>0.419325</td>\n",
              "      <td>0.401980</td>\n",
              "      <td>0.964337</td>\n",
              "      <td>28.939081</td>\n",
              "      <td>0.408114</td>\n",
              "      <td>0.038265</td>\n",
              "      <td>0.085752</td>\n",
              "      <td>0.781284</td>\n",
              "      <td>0.619807</td>\n",
              "      <td>...</td>\n",
              "      <td>0.962899</td>\n",
              "      <td>0.062696</td>\n",
              "      <td>2.473560</td>\n",
              "      <td>3.929245</td>\n",
              "      <td>3.761126</td>\n",
              "      <td>0.152720</td>\n",
              "      <td>0.476986</td>\n",
              "      <td>7.887829</td>\n",
              "      <td>5.142482</td>\n",
              "      <td>6.931191</td>\n",
              "    </tr>\n",
              "    <tr>\n",
              "      <th>std</th>\n",
              "      <td>0.703757</td>\n",
              "      <td>0.493454</td>\n",
              "      <td>0.490303</td>\n",
              "      <td>0.185450</td>\n",
              "      <td>6.562661</td>\n",
              "      <td>0.491490</td>\n",
              "      <td>0.191837</td>\n",
              "      <td>0.280000</td>\n",
              "      <td>0.413380</td>\n",
              "      <td>0.485439</td>\n",
              "      <td>...</td>\n",
              "      <td>0.189012</td>\n",
              "      <td>0.242417</td>\n",
              "      <td>1.027017</td>\n",
              "      <td>7.861948</td>\n",
              "      <td>8.239428</td>\n",
              "      <td>0.359721</td>\n",
              "      <td>0.499475</td>\n",
              "      <td>3.227736</td>\n",
              "      <td>0.945945</td>\n",
              "      <td>2.376979</td>\n",
              "    </tr>\n",
              "    <tr>\n",
              "      <th>min</th>\n",
              "      <td>0.000000</td>\n",
              "      <td>0.000000</td>\n",
              "      <td>0.000000</td>\n",
              "      <td>0.000000</td>\n",
              "      <td>12.000000</td>\n",
              "      <td>0.000000</td>\n",
              "      <td>0.000000</td>\n",
              "      <td>0.000000</td>\n",
              "      <td>0.000000</td>\n",
              "      <td>0.000000</td>\n",
              "      <td>...</td>\n",
              "      <td>0.000000</td>\n",
              "      <td>0.000000</td>\n",
              "      <td>1.000000</td>\n",
              "      <td>0.000000</td>\n",
              "      <td>0.000000</td>\n",
              "      <td>0.000000</td>\n",
              "      <td>0.000000</td>\n",
              "      <td>1.000000</td>\n",
              "      <td>1.000000</td>\n",
              "      <td>1.000000</td>\n",
              "    </tr>\n",
              "    <tr>\n",
              "      <th>25%</th>\n",
              "      <td>0.000000</td>\n",
              "      <td>0.000000</td>\n",
              "      <td>0.000000</td>\n",
              "      <td>1.000000</td>\n",
              "      <td>24.000000</td>\n",
              "      <td>0.000000</td>\n",
              "      <td>0.000000</td>\n",
              "      <td>0.000000</td>\n",
              "      <td>1.000000</td>\n",
              "      <td>0.000000</td>\n",
              "      <td>...</td>\n",
              "      <td>1.000000</td>\n",
              "      <td>0.000000</td>\n",
              "      <td>2.000000</td>\n",
              "      <td>0.000000</td>\n",
              "      <td>0.000000</td>\n",
              "      <td>0.000000</td>\n",
              "      <td>0.000000</td>\n",
              "      <td>5.000000</td>\n",
              "      <td>4.000000</td>\n",
              "      <td>5.000000</td>\n",
              "    </tr>\n",
              "    <tr>\n",
              "      <th>50%</th>\n",
              "      <td>0.000000</td>\n",
              "      <td>0.000000</td>\n",
              "      <td>0.000000</td>\n",
              "      <td>1.000000</td>\n",
              "      <td>28.000000</td>\n",
              "      <td>0.000000</td>\n",
              "      <td>0.000000</td>\n",
              "      <td>0.000000</td>\n",
              "      <td>1.000000</td>\n",
              "      <td>1.000000</td>\n",
              "      <td>...</td>\n",
              "      <td>1.000000</td>\n",
              "      <td>0.000000</td>\n",
              "      <td>2.000000</td>\n",
              "      <td>0.000000</td>\n",
              "      <td>0.000000</td>\n",
              "      <td>0.000000</td>\n",
              "      <td>0.000000</td>\n",
              "      <td>8.000000</td>\n",
              "      <td>5.000000</td>\n",
              "      <td>7.000000</td>\n",
              "    </tr>\n",
              "    <tr>\n",
              "      <th>75%</th>\n",
              "      <td>0.000000</td>\n",
              "      <td>1.000000</td>\n",
              "      <td>1.000000</td>\n",
              "      <td>1.000000</td>\n",
              "      <td>32.000000</td>\n",
              "      <td>1.000000</td>\n",
              "      <td>0.000000</td>\n",
              "      <td>0.000000</td>\n",
              "      <td>1.000000</td>\n",
              "      <td>1.000000</td>\n",
              "      <td>...</td>\n",
              "      <td>1.000000</td>\n",
              "      <td>0.000000</td>\n",
              "      <td>3.000000</td>\n",
              "      <td>4.000000</td>\n",
              "      <td>2.000000</td>\n",
              "      <td>0.000000</td>\n",
              "      <td>1.000000</td>\n",
              "      <td>10.000000</td>\n",
              "      <td>6.000000</td>\n",
              "      <td>9.000000</td>\n",
              "    </tr>\n",
              "    <tr>\n",
              "      <th>max</th>\n",
              "      <td>2.000000</td>\n",
              "      <td>1.000000</td>\n",
              "      <td>1.000000</td>\n",
              "      <td>1.000000</td>\n",
              "      <td>95.000000</td>\n",
              "      <td>1.000000</td>\n",
              "      <td>1.000000</td>\n",
              "      <td>1.000000</td>\n",
              "      <td>1.000000</td>\n",
              "      <td>1.000000</td>\n",
              "      <td>...</td>\n",
              "      <td>1.000000</td>\n",
              "      <td>1.000000</td>\n",
              "      <td>5.000000</td>\n",
              "      <td>30.000000</td>\n",
              "      <td>30.000000</td>\n",
              "      <td>1.000000</td>\n",
              "      <td>1.000000</td>\n",
              "      <td>13.000000</td>\n",
              "      <td>6.000000</td>\n",
              "      <td>11.000000</td>\n",
              "    </tr>\n",
              "  </tbody>\n",
              "</table>\n",
              "<p>8 rows × 22 columns</p>\n",
              "</div>"
            ],
            "text/plain": [
              "       Diabetes_012        HighBP      HighChol     CholCheck           BMI  \\\n",
              "count  47276.000000  47276.000000  47276.000000  47276.000000  47276.000000   \n",
              "mean       0.305800      0.419325      0.401980      0.964337     28.939081   \n",
              "std        0.703757      0.493454      0.490303      0.185450      6.562661   \n",
              "min        0.000000      0.000000      0.000000      0.000000     12.000000   \n",
              "25%        0.000000      0.000000      0.000000      1.000000     24.000000   \n",
              "50%        0.000000      0.000000      0.000000      1.000000     28.000000   \n",
              "75%        0.000000      1.000000      1.000000      1.000000     32.000000   \n",
              "max        2.000000      1.000000      1.000000      1.000000     95.000000   \n",
              "\n",
              "             Smoker        Stroke  HeartDiseaseorAttack  PhysActivity  \\\n",
              "count  47276.000000  47276.000000          47276.000000  47276.000000   \n",
              "mean       0.408114      0.038265              0.085752      0.781284   \n",
              "std        0.491490      0.191837              0.280000      0.413380   \n",
              "min        0.000000      0.000000              0.000000      0.000000   \n",
              "25%        0.000000      0.000000              0.000000      1.000000   \n",
              "50%        0.000000      0.000000              0.000000      1.000000   \n",
              "75%        1.000000      0.000000              0.000000      1.000000   \n",
              "max        1.000000      1.000000              1.000000      1.000000   \n",
              "\n",
              "             Fruits  ...  AnyHealthcare   NoDocbcCost       GenHlth  \\\n",
              "count  47276.000000  ...   47276.000000  47276.000000  47276.000000   \n",
              "mean       0.619807  ...       0.962899      0.062696      2.473560   \n",
              "std        0.485439  ...       0.189012      0.242417      1.027017   \n",
              "min        0.000000  ...       0.000000      0.000000      1.000000   \n",
              "25%        0.000000  ...       1.000000      0.000000      2.000000   \n",
              "50%        1.000000  ...       1.000000      0.000000      2.000000   \n",
              "75%        1.000000  ...       1.000000      0.000000      3.000000   \n",
              "max        1.000000  ...       1.000000      1.000000      5.000000   \n",
              "\n",
              "           MentHlth      PhysHlth      DiffWalk           Sex           Age  \\\n",
              "count  47276.000000  47276.000000  47276.000000  47276.000000  47276.000000   \n",
              "mean       3.929245      3.761126      0.152720      0.476986      7.887829   \n",
              "std        7.861948      8.239428      0.359721      0.499475      3.227736   \n",
              "min        0.000000      0.000000      0.000000      0.000000      1.000000   \n",
              "25%        0.000000      0.000000      0.000000      0.000000      5.000000   \n",
              "50%        0.000000      0.000000      0.000000      0.000000      8.000000   \n",
              "75%        4.000000      2.000000      0.000000      1.000000     10.000000   \n",
              "max       30.000000     30.000000      1.000000      1.000000     13.000000   \n",
              "\n",
              "          Education        Income  \n",
              "count  47276.000000  47276.000000  \n",
              "mean       5.142482      6.931191  \n",
              "std        0.945945      2.376979  \n",
              "min        1.000000      1.000000  \n",
              "25%        4.000000      5.000000  \n",
              "50%        5.000000      7.000000  \n",
              "75%        6.000000      9.000000  \n",
              "max        6.000000     11.000000  \n",
              "\n",
              "[8 rows x 22 columns]"
            ]
          },
          "execution_count": 9,
          "metadata": {},
          "output_type": "execute_result"
        }
      ],
      "source": [
        "data.describe()"
      ]
    },
    {
      "cell_type": "markdown",
      "id": "1694720d",
      "metadata": {
        "id": "1694720d",
        "papermill": {
          "duration": 0.062369,
          "end_time": "2022-10-06T21:15:09.827694",
          "exception": false,
          "start_time": "2022-10-06T21:15:09.765325",
          "status": "completed"
        },
        "tags": []
      },
      "source": [
        "Il n'y a pas de données manquantes"
      ]
    },
    {
      "cell_type": "code",
      "execution_count": 10,
      "id": "8c675e2a",
      "metadata": {
        "colab": {
          "base_uri": "https://localhost:8080/"
        },
        "execution": {
          "iopub.execute_input": "2022-10-06T21:15:09.682521Z",
          "iopub.status.busy": "2022-10-06T21:15:09.681773Z",
          "iopub.status.idle": "2022-10-06T21:15:09.700705Z",
          "shell.execute_reply": "2022-10-06T21:15:09.699584Z"
        },
        "id": "8c675e2a",
        "outputId": "003e5077-7ea0-4819-db91-698b33384c2c",
        "papermill": {
          "duration": 0.085001,
          "end_time": "2022-10-06T21:15:09.703031",
          "exception": false,
          "start_time": "2022-10-06T21:15:09.618030",
          "status": "completed"
        },
        "tags": []
      },
      "outputs": [
        {
          "data": {
            "text/plain": [
              "Diabetes_012            0\n",
              "HighBP                  0\n",
              "HighChol                0\n",
              "CholCheck               0\n",
              "BMI                     0\n",
              "Smoker                  0\n",
              "Stroke                  0\n",
              "HeartDiseaseorAttack    0\n",
              "PhysActivity            0\n",
              "Fruits                  0\n",
              "Veggies                 0\n",
              "HvyAlcoholConsump       0\n",
              "AnyHealthcare           0\n",
              "NoDocbcCost             0\n",
              "GenHlth                 0\n",
              "MentHlth                0\n",
              "PhysHlth                0\n",
              "DiffWalk                0\n",
              "Sex                     0\n",
              "Age                     0\n",
              "Education               0\n",
              "Income                  0\n",
              "dtype: int64"
            ]
          },
          "execution_count": 10,
          "metadata": {},
          "output_type": "execute_result"
        }
      ],
      "source": [
        "data.isnull().sum()"
      ]
    },
    {
      "cell_type": "markdown",
      "id": "Lpn4aG1At8tD",
      "metadata": {
        "id": "Lpn4aG1At8tD"
      },
      "source": [
        "Il y a 768 lignes dupliquées, elles doivent donc être supprimées."
      ]
    },
    {
      "cell_type": "code",
      "execution_count": 11,
      "id": "c21c5a71",
      "metadata": {
        "colab": {
          "base_uri": "https://localhost:8080/"
        },
        "execution": {
          "iopub.execute_input": "2022-10-06T21:15:09.954444Z",
          "iopub.status.busy": "2022-10-06T21:15:09.953804Z",
          "iopub.status.idle": "2022-10-06T21:15:10.086252Z",
          "shell.execute_reply": "2022-10-06T21:15:10.085056Z"
        },
        "id": "c21c5a71",
        "outputId": "58776469-c2f9-47dc-a7f3-243af131ad20",
        "papermill": {
          "duration": 0.198868,
          "end_time": "2022-10-06T21:15:10.088760",
          "exception": false,
          "start_time": "2022-10-06T21:15:09.889892",
          "status": "completed"
        },
        "tags": []
      },
      "outputs": [
        {
          "data": {
            "text/plain": [
              "768"
            ]
          },
          "execution_count": 11,
          "metadata": {},
          "output_type": "execute_result"
        }
      ],
      "source": [
        "data.duplicated().sum()"
      ]
    },
    {
      "cell_type": "code",
      "execution_count": 12,
      "id": "4baf27bd",
      "metadata": {
        "execution": {
          "iopub.execute_input": "2022-10-06T21:15:10.344780Z",
          "iopub.status.busy": "2022-10-06T21:15:10.344372Z",
          "iopub.status.idle": "2022-10-06T21:15:10.498404Z",
          "shell.execute_reply": "2022-10-06T21:15:10.497341Z"
        },
        "id": "4baf27bd",
        "papermill": {
          "duration": 0.220452,
          "end_time": "2022-10-06T21:15:10.501285",
          "exception": false,
          "start_time": "2022-10-06T21:15:10.280833",
          "status": "completed"
        },
        "tags": []
      },
      "outputs": [],
      "source": [
        "data.drop_duplicates(inplace=True)"
      ]
    },
    {
      "cell_type": "code",
      "execution_count": 13,
      "id": "fe426c40",
      "metadata": {
        "colab": {
          "base_uri": "https://localhost:8080/"
        },
        "execution": {
          "iopub.execute_input": "2022-10-06T21:15:10.628934Z",
          "iopub.status.busy": "2022-10-06T21:15:10.628509Z",
          "iopub.status.idle": "2022-10-06T21:15:10.635466Z",
          "shell.execute_reply": "2022-10-06T21:15:10.634352Z"
        },
        "id": "fe426c40",
        "outputId": "142bfded-7883-4f53-d862-5065c89a1b64",
        "papermill": {
          "duration": 0.072943,
          "end_time": "2022-10-06T21:15:10.637774",
          "exception": false,
          "start_time": "2022-10-06T21:15:10.564831",
          "status": "completed"
        },
        "tags": []
      },
      "outputs": [
        {
          "data": {
            "text/plain": [
              "(46508, 22)"
            ]
          },
          "execution_count": 13,
          "metadata": {},
          "output_type": "execute_result"
        }
      ],
      "source": [
        "data.shape"
      ]
    },
    {
      "cell_type": "code",
      "execution_count": 14,
      "id": "17117f1d",
      "metadata": {
        "colab": {
          "base_uri": "https://localhost:8080/",
          "height": 708
        },
        "execution": {
          "iopub.execute_input": "2022-10-06T21:15:10.765849Z",
          "iopub.status.busy": "2022-10-06T21:15:10.764976Z",
          "iopub.status.idle": "2022-10-06T21:15:13.881466Z",
          "shell.execute_reply": "2022-10-06T21:15:13.880333Z"
        },
        "id": "17117f1d",
        "outputId": "a272099d-306e-451c-caec-026e599d8a56",
        "papermill": {
          "duration": 3.184714,
          "end_time": "2022-10-06T21:15:13.886131",
          "exception": false,
          "start_time": "2022-10-06T21:15:10.701417",
          "status": "completed"
        },
        "tags": []
      },
      "outputs": [
        {
          "data": {
            "text/plain": [
              "<Axes: >"
            ]
          },
          "execution_count": 14,
          "metadata": {},
          "output_type": "execute_result"
        },
        {
          "data": {
            "image/png": "[encoded data removed]",
            "text/plain": [
              "<Figure size 1440x720 with 2 Axes>"
            ]
          },
          "metadata": {
            "needs_background": "light"
          },
          "output_type": "display_data"
        }
      ],
      "source": [
        "plt.figure(figsize=(20,10))\n",
        "sns.heatmap(data.corr(), annot=True, cmap=\"YlGnBu\")"
      ]
    },
    {
      "cell_type": "code",
      "execution_count": 15,
      "id": "fcd0a6cd",
      "metadata": {
        "execution": {
          "iopub.execute_input": "2022-10-06T21:15:14.023859Z",
          "iopub.status.busy": "2022-10-06T21:15:14.023167Z",
          "iopub.status.idle": "2022-10-06T21:15:14.045831Z",
          "shell.execute_reply": "2022-10-06T21:15:14.044678Z"
        },
        "id": "fcd0a6cd",
        "papermill": {
          "duration": 0.094206,
          "end_time": "2022-10-06T21:15:14.048658",
          "exception": false,
          "start_time": "2022-10-06T21:15:13.954452",
          "status": "completed"
        },
        "tags": []
      },
      "outputs": [],
      "source": [
        "df_vis=data.copy()"
      ]
    },
    {
      "cell_type": "markdown",
      "id": "4240486c",
      "metadata": {
        "id": "4240486c",
        "papermill": {
          "duration": 0.066812,
          "end_time": "2022-10-06T21:15:15.835921",
          "exception": false,
          "start_time": "2022-10-06T21:15:15.769109",
          "status": "completed"
        },
        "tags": []
      },
      "source": [
        "## Visualisation\n"
      ]
    },
    {
      "cell_type": "code",
      "execution_count": 16,
      "id": "528c3788",
      "metadata": {
        "colab": {
          "base_uri": "https://localhost:8080/",
          "height": 739
        },
        "execution": {
          "iopub.execute_input": "2022-10-06T21:15:15.973075Z",
          "iopub.status.busy": "2022-10-06T21:15:15.972713Z",
          "iopub.status.idle": "2022-10-06T21:15:16.296628Z",
          "shell.execute_reply": "2022-10-06T21:15:16.295480Z"
        },
        "id": "528c3788",
        "outputId": "7f48d2fe-6e44-466a-9c99-a66927ee1ffe",
        "papermill": {
          "duration": 0.395745,
          "end_time": "2022-10-06T21:15:16.299145",
          "exception": false,
          "start_time": "2022-10-06T21:15:15.903400",
          "status": "completed"
        },
        "tags": []
      },
      "outputs": [
        {
          "data": {
            "text/html": [
              "<div>\n",
              "<style scoped>\n",
              "    .dataframe tbody tr th:only-of-type {\n",
              "        vertical-align: middle;\n",
              "    }\n",
              "\n",
              "    .dataframe tbody tr th {\n",
              "        vertical-align: top;\n",
              "    }\n",
              "\n",
              "    .dataframe thead th {\n",
              "        text-align: right;\n",
              "    }\n",
              "</style>\n",
              "<table border=\"1\" class=\"dataframe\">\n",
              "  <thead>\n",
              "    <tr style=\"text-align: right;\">\n",
              "      <th></th>\n",
              "      <th>unique value count</th>\n",
              "    </tr>\n",
              "  </thead>\n",
              "  <tbody>\n",
              "    <tr>\n",
              "      <th>Diabetes_012</th>\n",
              "      <td>3</td>\n",
              "    </tr>\n",
              "    <tr>\n",
              "      <th>HighBP</th>\n",
              "      <td>2</td>\n",
              "    </tr>\n",
              "    <tr>\n",
              "      <th>HighChol</th>\n",
              "      <td>2</td>\n",
              "    </tr>\n",
              "    <tr>\n",
              "      <th>CholCheck</th>\n",
              "      <td>2</td>\n",
              "    </tr>\n",
              "    <tr>\n",
              "      <th>BMI</th>\n",
              "      <td>74</td>\n",
              "    </tr>\n",
              "    <tr>\n",
              "      <th>Smoker</th>\n",
              "      <td>2</td>\n",
              "    </tr>\n",
              "    <tr>\n",
              "      <th>Stroke</th>\n",
              "      <td>2</td>\n",
              "    </tr>\n",
              "    <tr>\n",
              "      <th>HeartDiseaseorAttack</th>\n",
              "      <td>2</td>\n",
              "    </tr>\n",
              "    <tr>\n",
              "      <th>PhysActivity</th>\n",
              "      <td>2</td>\n",
              "    </tr>\n",
              "    <tr>\n",
              "      <th>Fruits</th>\n",
              "      <td>2</td>\n",
              "    </tr>\n",
              "    <tr>\n",
              "      <th>Veggies</th>\n",
              "      <td>2</td>\n",
              "    </tr>\n",
              "    <tr>\n",
              "      <th>HvyAlcoholConsump</th>\n",
              "      <td>2</td>\n",
              "    </tr>\n",
              "    <tr>\n",
              "      <th>AnyHealthcare</th>\n",
              "      <td>2</td>\n",
              "    </tr>\n",
              "    <tr>\n",
              "      <th>NoDocbcCost</th>\n",
              "      <td>2</td>\n",
              "    </tr>\n",
              "    <tr>\n",
              "      <th>GenHlth</th>\n",
              "      <td>5</td>\n",
              "    </tr>\n",
              "    <tr>\n",
              "      <th>MentHlth</th>\n",
              "      <td>31</td>\n",
              "    </tr>\n",
              "    <tr>\n",
              "      <th>PhysHlth</th>\n",
              "      <td>30</td>\n",
              "    </tr>\n",
              "    <tr>\n",
              "      <th>DiffWalk</th>\n",
              "      <td>2</td>\n",
              "    </tr>\n",
              "    <tr>\n",
              "      <th>Sex</th>\n",
              "      <td>2</td>\n",
              "    </tr>\n",
              "    <tr>\n",
              "      <th>Age</th>\n",
              "      <td>13</td>\n",
              "    </tr>\n",
              "    <tr>\n",
              "      <th>Education</th>\n",
              "      <td>6</td>\n",
              "    </tr>\n",
              "    <tr>\n",
              "      <th>Income</th>\n",
              "      <td>11</td>\n",
              "    </tr>\n",
              "  </tbody>\n",
              "</table>\n",
              "</div>"
            ],
            "text/plain": [
              "                      unique value count\n",
              "Diabetes_012                           3\n",
              "HighBP                                 2\n",
              "HighChol                               2\n",
              "CholCheck                              2\n",
              "BMI                                   74\n",
              "Smoker                                 2\n",
              "Stroke                                 2\n",
              "HeartDiseaseorAttack                   2\n",
              "PhysActivity                           2\n",
              "Fruits                                 2\n",
              "Veggies                                2\n",
              "HvyAlcoholConsump                      2\n",
              "AnyHealthcare                          2\n",
              "NoDocbcCost                            2\n",
              "GenHlth                                5\n",
              "MentHlth                              31\n",
              "PhysHlth                              30\n",
              "DiffWalk                               2\n",
              "Sex                                    2\n",
              "Age                                   13\n",
              "Education                              6\n",
              "Income                                11"
            ]
          },
          "execution_count": 16,
          "metadata": {},
          "output_type": "execute_result"
        }
      ],
      "source": [
        "unique_values = {}\n",
        "for col in df_vis.columns:\n",
        "    unique_values[col] = df_vis[col].value_counts().shape[0]\n",
        "\n",
        "pd.DataFrame(unique_values, index=['unique value count']).transpose()"
      ]
    },
    {
      "cell_type": "markdown",
      "id": "59637d6d",
      "metadata": {
        "id": "59637d6d",
        "papermill": {
          "duration": 0.07212,
          "end_time": "2022-10-06T21:15:21.176453",
          "exception": false,
          "start_time": "2022-10-06T21:15:21.104333",
          "status": "completed"
        },
        "tags": []
      },
      "source": [
        "## Ratio des diabètes dans l'ensemble de données avec leurs types\n"
      ]
    },
    {
      "cell_type": "code",
      "execution_count": 17,
      "id": "9ee7f10b",
      "metadata": {
        "colab": {
          "base_uri": "https://localhost:8080/"
        },
        "execution": {
          "iopub.execute_input": "2022-10-06T21:15:21.318121Z",
          "iopub.status.busy": "2022-10-06T21:15:21.317749Z",
          "iopub.status.idle": "2022-10-06T21:15:21.341302Z",
          "shell.execute_reply": "2022-10-06T21:15:21.340172Z"
        },
        "id": "9ee7f10b",
        "outputId": "b49b5beb-a255-4b4e-b6c0-2bdf85309892",
        "papermill": {
          "duration": 0.0974,
          "end_time": "2022-10-06T21:15:21.343737",
          "exception": false,
          "start_time": "2022-10-06T21:15:21.246337",
          "status": "completed"
        },
        "tags": []
      },
      "outputs": [
        {
          "data": {
            "text/plain": [
              "0    38743\n",
              "2     6687\n",
              "1     1078\n",
              "Name: Diabetes_012, dtype: int64"
            ]
          },
          "execution_count": 17,
          "metadata": {},
          "output_type": "execute_result"
        }
      ],
      "source": [
        "data['Diabetes_012'].value_counts()"
      ]
    },
    {
      "cell_type": "code",
      "execution_count": 18,
      "id": "072ad671",
      "metadata": {
        "colab": {
          "base_uri": "https://localhost:8080/",
          "height": 499
        },
        "execution": {
          "iopub.execute_input": "2022-10-06T21:15:21.487528Z",
          "iopub.status.busy": "2022-10-06T21:15:21.486826Z",
          "iopub.status.idle": "2022-10-06T21:15:21.649452Z",
          "shell.execute_reply": "2022-10-06T21:15:21.648674Z"
        },
        "id": "072ad671",
        "outputId": "a8b54a17-dcec-498d-ebf3-cb0471992cb8",
        "papermill": {
          "duration": 0.238845,
          "end_time": "2022-10-06T21:15:21.653586",
          "exception": false,
          "start_time": "2022-10-06T21:15:21.414741",
          "status": "completed"
        },
        "tags": []
      },
      "outputs": [
        {
          "data": {
            "image/png": "[encoded data removed]",
            "text/plain": [
              "<Figure size 576x432 with 1 Axes>"
            ]
          },
          "metadata": {},
          "output_type": "display_data"
        }
      ],
      "source": [
        "# pie plot of diabetes ratio\n",
        "plt.figure(figsize=(8,6))\n",
        "labels = ['No Diabetes', 'Diabetes', 'Pre Diabetes']\n",
        "sizes = [data['Diabetes_012'].value_counts()[0], data['Diabetes_012'].value_counts()[1], data['Diabetes_012'].value_counts()[2]]\n",
        "colors = ['lightskyblue', 'grey', 'lightcoral']\n",
        "explode = (0.05, 0.05, 0)  # explode 1st slice\n",
        "plt.pie(sizes, explode=explode, labels=labels, autopct='%.1f%%', colors=colors, data = data);\n",
        "\n"
      ]
    },
    {
      "cell_type": "markdown",
      "id": "6b5bac92",
      "metadata": {
        "id": "6b5bac92",
        "papermill": {
          "duration": 0.069849,
          "end_time": "2022-10-06T21:15:21.850016",
          "exception": false,
          "start_time": "2022-10-06T21:15:21.780167",
          "status": "completed"
        },
        "tags": []
      },
      "source": [
        "#### \"Pas de diabète\" est le cas le plus courant dans l'ensemble des données, suivi par \"diabète\" et \"pré-diabète\".\n",
        "\n"
      ]
    },
    {
      "cell_type": "markdown",
      "id": "511459c9",
      "metadata": {
        "id": "511459c9",
        "papermill": {
          "duration": 0.070021,
          "end_time": "2022-10-06T21:15:21.990653",
          "exception": false,
          "start_time": "2022-10-06T21:15:21.920632",
          "status": "completed"
        },
        "tags": []
      },
      "source": [
        "## corrélation avec le diabète_012 à l'aide d'un graphique à barres"
      ]
    },
    {
      "cell_type": "code",
      "execution_count": 19,
      "id": "13a45e5d",
      "metadata": {
        "colab": {
          "base_uri": "https://localhost:8080/",
          "height": 622
        },
        "execution": {
          "iopub.execute_input": "2022-10-06T21:15:22.133444Z",
          "iopub.status.busy": "2022-10-06T21:15:22.132182Z",
          "iopub.status.idle": "2022-10-06T21:15:22.587728Z",
          "shell.execute_reply": "2022-10-06T21:15:22.586638Z"
        },
        "id": "13a45e5d",
        "outputId": "ba2c5c98-56b6-4a91-e971-9e69d51ce90b",
        "papermill": {
          "duration": 0.529542,
          "end_time": "2022-10-06T21:15:22.590607",
          "exception": false,
          "start_time": "2022-10-06T21:15:22.061065",
          "status": "completed"
        },
        "tags": []
      },
      "outputs": [
        {
          "data": {
            "image/png": "[encoded data removed]",
            "text/plain": [
              "<Figure size 1080x432 with 1 Axes>"
            ]
          },
          "metadata": {
            "needs_background": "light"
          },
          "output_type": "display_data"
        }
      ],
      "source": [
        "data.drop('Diabetes_012', axis=1).corrwith(data.Diabetes_012).plot(kind='bar', grid=True, figsize=(15, 6)\n",
        ", title=\"Correlation with Diabetes_binary\",color=\"blue\");"
      ]
    },
    {
      "cell_type": "markdown",
      "id": "e98a581b",
      "metadata": {
        "id": "e98a581b",
        "papermill": {
          "duration": 0.070486,
          "end_time": "2022-10-06T21:15:22.731509",
          "exception": false,
          "start_time": "2022-10-06T21:15:22.661023",
          "status": "completed"
        },
        "tags": []
      },
      "source": [
        "1. Fruits , AnyHealthcare , NoDocbccost and sex sont les moins corrélés avec Diabetes_binary.\n",
        "\n",
        "2. HighBP , HighChol , BMI , smoker , stroke , HeartDiseaseorAttack , PhysActivity , Veggies , HvyAlcoholconsump , GenHlth , PhysHlth , Age , Education , Income and DiffWalk ont une corrélation significative avec le diabète_012."
      ]
    },
    {
      "cell_type": "markdown",
      "id": "8a70ca94",
      "metadata": {
        "id": "8a70ca94",
        "papermill": {
          "duration": 0.088408,
          "end_time": "2022-10-06T21:16:23.899712",
          "exception": false,
          "start_time": "2022-10-06T21:16:23.811304",
          "status": "completed"
        },
        "tags": []
      },
      "source": [
        "# Preprocessing"
      ]
    },
    {
      "cell_type": "code",
      "execution_count": 20,
      "id": "48baf06d",
      "metadata": {
        "colab": {
          "base_uri": "https://localhost:8080/",
          "height": 827
        },
        "execution": {
          "iopub.execute_input": "2022-10-06T21:16:24.081675Z",
          "iopub.status.busy": "2022-10-06T21:16:24.081005Z",
          "iopub.status.idle": "2022-10-06T21:16:26.317158Z",
          "shell.execute_reply": "2022-10-06T21:16:26.315869Z"
        },
        "id": "48baf06d",
        "outputId": "c5728fc9-589d-402c-ded0-bb86c31f307d",
        "papermill": {
          "duration": 2.33148,
          "end_time": "2022-10-06T21:16:26.319821",
          "exception": false,
          "start_time": "2022-10-06T21:16:23.988341",
          "status": "completed"
        },
        "tags": []
      },
      "outputs": [
        {
          "data": {
            "text/plain": [
              "[Text(0, 0, 'Diabetes_012'),\n",
              " Text(1, 0, 'HighBP'),\n",
              " Text(2, 0, 'HighChol'),\n",
              " Text(3, 0, 'CholCheck'),\n",
              " Text(4, 0, 'BMI'),\n",
              " Text(5, 0, 'Smoker'),\n",
              " Text(6, 0, 'Stroke'),\n",
              " Text(7, 0, 'HeartDiseaseorAttack'),\n",
              " Text(8, 0, 'PhysActivity'),\n",
              " Text(9, 0, 'Fruits'),\n",
              " Text(10, 0, 'Veggies'),\n",
              " Text(11, 0, 'HvyAlcoholConsump'),\n",
              " Text(12, 0, 'AnyHealthcare'),\n",
              " Text(13, 0, 'NoDocbcCost'),\n",
              " Text(14, 0, 'GenHlth'),\n",
              " Text(15, 0, 'MentHlth'),\n",
              " Text(16, 0, 'PhysHlth'),\n",
              " Text(17, 0, 'DiffWalk'),\n",
              " Text(18, 0, 'Sex'),\n",
              " Text(19, 0, 'Age'),\n",
              " Text(20, 0, 'Education'),\n",
              " Text(21, 0, 'Income')]"
            ]
          },
          "execution_count": 20,
          "metadata": {},
          "output_type": "execute_result"
        },
        {
          "data": {
            "image/png": "[encoded data removed]",
            "text/plain": [
              "<Figure size 1800x576 with 1 Axes>"
            ]
          },
          "metadata": {
            "needs_background": "light"
          },
          "output_type": "display_data"
        }
      ],
      "source": [
        "plt.figure(figsize = (25,8))\n",
        "u = sns.boxplot(palette = 'cool', data=data)\n",
        "u.set_xticklabels(u.get_xticklabels(),rotation=45)"
      ]
    },
    {
      "cell_type": "markdown",
      "id": "uDZNGokQxSWO",
      "metadata": {
        "id": "uDZNGokQxSWO"
      },
      "source": [
        "il y a des valeurs aberrantes dans l'BMI"
      ]
    },
    {
      "cell_type": "code",
      "execution_count": 21,
      "id": "6beb1c8a",
      "metadata": {
        "colab": {
          "base_uri": "https://localhost:8080/"
        },
        "execution": {
          "iopub.execute_input": "2022-10-06T21:16:26.506416Z",
          "iopub.status.busy": "2022-10-06T21:16:26.505177Z",
          "iopub.status.idle": "2022-10-06T21:16:26.512000Z",
          "shell.execute_reply": "2022-10-06T21:16:26.511202Z"
        },
        "id": "6beb1c8a",
        "outputId": "6f70b097-f2bd-4744-c8f6-e8117e1a845c",
        "papermill": {
          "duration": 0.101824,
          "end_time": "2022-10-06T21:16:26.514134",
          "exception": false,
          "start_time": "2022-10-06T21:16:26.412310",
          "status": "completed"
        },
        "tags": []
      },
      "outputs": [
        {
          "data": {
            "text/plain": [
              "Index(['Diabetes_012', 'HighBP', 'HighChol', 'CholCheck', 'BMI', 'Smoker',\n",
              "       'Stroke', 'HeartDiseaseorAttack', 'PhysActivity', 'Fruits', 'Veggies',\n",
              "       'HvyAlcoholConsump', 'AnyHealthcare', 'NoDocbcCost', 'GenHlth',\n",
              "       'MentHlth', 'PhysHlth', 'DiffWalk', 'Sex', 'Age', 'Education',\n",
              "       'Income'],\n",
              "      dtype='object')"
            ]
          },
          "execution_count": 21,
          "metadata": {},
          "output_type": "execute_result"
        }
      ],
      "source": [
        "data.columns"
      ]
    },
    {
      "cell_type": "markdown",
      "id": "b341fabb",
      "metadata": {
        "id": "b341fabb",
        "papermill": {
          "duration": 0.09235,
          "end_time": "2022-10-06T21:16:29.919537",
          "exception": false,
          "start_time": "2022-10-06T21:16:29.827187",
          "status": "completed"
        },
        "tags": []
      },
      "source": [
        "### traiter les valeurs aberrantes de l'BMI"
      ]
    },
    {
      "cell_type": "code",
      "execution_count": 22,
      "id": "75f17fce",
      "metadata": {
        "colab": {
          "base_uri": "https://localhost:8080/",
          "height": 542
        },
        "execution": {
          "iopub.execute_input": "2022-10-06T21:16:30.103853Z",
          "iopub.status.busy": "2022-10-06T21:16:30.103097Z",
          "iopub.status.idle": "2022-10-06T21:16:30.900984Z",
          "shell.execute_reply": "2022-10-06T21:16:30.900172Z"
        },
        "id": "75f17fce",
        "outputId": "5574b016-e236-4077-d825-12b225d64508",
        "papermill": {
          "duration": 0.892777,
          "end_time": "2022-10-06T21:16:30.903245",
          "exception": false,
          "start_time": "2022-10-06T21:16:30.010468",
          "status": "completed"
        },
        "tags": []
      },
      "outputs": [
        {
          "data": {
            "image/png": "[encoded data removed]",
            "text/plain": [
              "<Figure size 864x432 with 2 Axes>"
            ]
          },
          "metadata": {
            "needs_background": "light"
          },
          "output_type": "display_data"
        }
      ],
      "source": [
        "plt.figure(figsize = (12,6))\n",
        "plt.subplot(1, 2, 1)\n",
        "sns.boxplot(data=data,y='BMI',color='#cc6699')\n",
        "plt.subplot(1, 2, 2)\n",
        "sns.scatterplot(data=data,x='Diabetes_012',y='BMI',color='#cc6699')\n",
        "plt.show()"
      ]
    },
    {
      "cell_type": "code",
      "execution_count": 23,
      "id": "1c8e3114",
      "metadata": {
        "colab": {
          "base_uri": "https://localhost:8080/"
        },
        "execution": {
          "iopub.execute_input": "2022-10-06T21:16:31.086968Z",
          "iopub.status.busy": "2022-10-06T21:16:31.086570Z",
          "iopub.status.idle": "2022-10-06T21:16:31.112912Z",
          "shell.execute_reply": "2022-10-06T21:16:31.111829Z"
        },
        "id": "1c8e3114",
        "outputId": "b3d22dab-6c57-4701-b4c4-89a60d36eb2c",
        "papermill": {
          "duration": 0.120918,
          "end_time": "2022-10-06T21:16:31.115256",
          "exception": false,
          "start_time": "2022-10-06T21:16:30.994338",
          "status": "completed"
        },
        "tags": []
      },
      "outputs": [
        {
          "data": {
            "text/plain": [
              "(31, 22)"
            ]
          },
          "execution_count": 23,
          "metadata": {},
          "output_type": "execute_result"
        }
      ],
      "source": [
        "x=data[data['BMI']>=70]\n",
        "x.shape"
      ]
    },
    {
      "cell_type": "code",
      "execution_count": 24,
      "id": "0d0d81b6",
      "metadata": {
        "execution": {
          "iopub.execute_input": "2022-10-06T21:16:31.304507Z",
          "iopub.status.busy": "2022-10-06T21:16:31.304083Z",
          "iopub.status.idle": "2022-10-06T21:16:31.317825Z",
          "shell.execute_reply": "2022-10-06T21:16:31.316629Z"
        },
        "id": "0d0d81b6",
        "papermill": {
          "duration": 0.111549,
          "end_time": "2022-10-06T21:16:31.320121",
          "exception": false,
          "start_time": "2022-10-06T21:16:31.208572",
          "status": "completed"
        },
        "tags": []
      },
      "outputs": [],
      "source": [
        "df=data.copy()"
      ]
    },
    {
      "cell_type": "markdown",
      "id": "9bf63f3a",
      "metadata": {},
      "source": [
        "On supprime les valeurs abberantes (>70)"
      ]
    },
    {
      "cell_type": "code",
      "execution_count": 25,
      "id": "71f224a1",
      "metadata": {
        "execution": {
          "iopub.execute_input": "2022-10-06T21:16:31.505595Z",
          "iopub.status.busy": "2022-10-06T21:16:31.505160Z",
          "iopub.status.idle": "2022-10-06T21:16:31.530626Z",
          "shell.execute_reply": "2022-10-06T21:16:31.529421Z"
        },
        "id": "71f224a1",
        "papermill": {
          "duration": 0.121125,
          "end_time": "2022-10-06T21:16:31.533567",
          "exception": false,
          "start_time": "2022-10-06T21:16:31.412442",
          "status": "completed"
        },
        "tags": []
      },
      "outputs": [],
      "source": [
        "df=data[data['BMI']<70]"
      ]
    },
    {
      "cell_type": "code",
      "execution_count": 26,
      "id": "05bede03",
      "metadata": {
        "colab": {
          "base_uri": "https://localhost:8080/",
          "height": 542
        },
        "execution": {
          "iopub.execute_input": "2022-10-06T21:16:31.717850Z",
          "iopub.status.busy": "2022-10-06T21:16:31.717451Z",
          "iopub.status.idle": "2022-10-06T21:16:32.503821Z",
          "shell.execute_reply": "2022-10-06T21:16:32.502653Z"
        },
        "id": "05bede03",
        "outputId": "3e2bd542-0a66-4a40-a13a-ae313f4411d6",
        "papermill": {
          "duration": 0.881954,
          "end_time": "2022-10-06T21:16:32.506115",
          "exception": false,
          "start_time": "2022-10-06T21:16:31.624161",
          "status": "completed"
        },
        "tags": []
      },
      "outputs": [
        {
          "data": {
            "image/png": "[encoded data removed]",
            "text/plain": [
              "<Figure size 864x432 with 2 Axes>"
            ]
          },
          "metadata": {
            "needs_background": "light"
          },
          "output_type": "display_data"
        }
      ],
      "source": [
        "plt.figure(figsize = (12,6))\n",
        "plt.subplot(1, 2, 1)\n",
        "sns.boxplot(data=df,y='BMI',color='#cc6699')\n",
        "plt.subplot(1, 2, 2)\n",
        "sns.scatterplot(data=df,x='Diabetes_012',y='BMI',color='#cc6699')\n",
        "plt.show()"
      ]
    },
    {
      "cell_type": "code",
      "execution_count": 27,
      "id": "bb8e6e57",
      "metadata": {
        "colab": {
          "base_uri": "https://localhost:8080/"
        },
        "execution": {
          "iopub.execute_input": "2022-10-06T21:16:32.694179Z",
          "iopub.status.busy": "2022-10-06T21:16:32.693174Z",
          "iopub.status.idle": "2022-10-06T21:16:32.703680Z",
          "shell.execute_reply": "2022-10-06T21:16:32.702907Z"
        },
        "id": "bb8e6e57",
        "outputId": "43580616-dd0e-414c-e7a7-526faede2318",
        "papermill": {
          "duration": 0.105583,
          "end_time": "2022-10-06T21:16:32.705572",
          "exception": false,
          "start_time": "2022-10-06T21:16:32.599989",
          "status": "completed"
        },
        "tags": []
      },
      "outputs": [
        {
          "data": {
            "text/plain": [
              "0    38721\n",
              "2     6678\n",
              "1     1078\n",
              "Name: Diabetes_012, dtype: int64"
            ]
          },
          "execution_count": 27,
          "metadata": {},
          "output_type": "execute_result"
        }
      ],
      "source": [
        "df['Diabetes_012'].value_counts()"
      ]
    },
    {
      "cell_type": "code",
      "execution_count": 28,
      "id": "ZHJ8AyrGyEEN",
      "metadata": {
        "colab": {
          "base_uri": "https://localhost:8080/",
          "height": 273
        },
        "id": "ZHJ8AyrGyEEN",
        "outputId": "e5bc8e71-a004-4eec-ff43-7c23ce90b0d7"
      },
      "outputs": [
        {
          "data": {
            "text/html": [
              "<div>\n",
              "<style scoped>\n",
              "    .dataframe tbody tr th:only-of-type {\n",
              "        vertical-align: middle;\n",
              "    }\n",
              "\n",
              "    .dataframe tbody tr th {\n",
              "        vertical-align: top;\n",
              "    }\n",
              "\n",
              "    .dataframe thead th {\n",
              "        text-align: right;\n",
              "    }\n",
              "</style>\n",
              "<table border=\"1\" class=\"dataframe\">\n",
              "  <thead>\n",
              "    <tr style=\"text-align: right;\">\n",
              "      <th></th>\n",
              "      <th>Unnamed: 0</th>\n",
              "      <th>Diabetes_012</th>\n",
              "      <th>HighBP</th>\n",
              "      <th>HighChol</th>\n",
              "      <th>CholCheck</th>\n",
              "      <th>BMI</th>\n",
              "      <th>Smoker</th>\n",
              "      <th>Stroke</th>\n",
              "      <th>HeartDiseaseorAttack</th>\n",
              "      <th>PhysActivity</th>\n",
              "      <th>...</th>\n",
              "      <th>AnyHealthcare</th>\n",
              "      <th>NoDocbcCost</th>\n",
              "      <th>GenHlth</th>\n",
              "      <th>MentHlth</th>\n",
              "      <th>PhysHlth</th>\n",
              "      <th>DiffWalk</th>\n",
              "      <th>Sex</th>\n",
              "      <th>Age</th>\n",
              "      <th>Education</th>\n",
              "      <th>Income</th>\n",
              "    </tr>\n",
              "  </thead>\n",
              "  <tbody>\n",
              "    <tr>\n",
              "      <th>0</th>\n",
              "      <td>111866</td>\n",
              "      <td>2</td>\n",
              "      <td>1</td>\n",
              "      <td>1.0</td>\n",
              "      <td>1</td>\n",
              "      <td>32.0</td>\n",
              "      <td>1.0</td>\n",
              "      <td>0.0</td>\n",
              "      <td>1.0</td>\n",
              "      <td>1</td>\n",
              "      <td>...</td>\n",
              "      <td>1</td>\n",
              "      <td>0.0</td>\n",
              "      <td>2.0</td>\n",
              "      <td>15.0</td>\n",
              "      <td>0.0</td>\n",
              "      <td>0.0</td>\n",
              "      <td>1</td>\n",
              "      <td>7</td>\n",
              "      <td>6.0</td>\n",
              "      <td>6.0</td>\n",
              "    </tr>\n",
              "    <tr>\n",
              "      <th>1</th>\n",
              "      <td>206199</td>\n",
              "      <td>0</td>\n",
              "      <td>0</td>\n",
              "      <td>1.0</td>\n",
              "      <td>1</td>\n",
              "      <td>28.0</td>\n",
              "      <td>0.0</td>\n",
              "      <td>0.0</td>\n",
              "      <td>0.0</td>\n",
              "      <td>0</td>\n",
              "      <td>...</td>\n",
              "      <td>1</td>\n",
              "      <td>0.0</td>\n",
              "      <td>4.0</td>\n",
              "      <td>4.0</td>\n",
              "      <td>30.0</td>\n",
              "      <td>0.0</td>\n",
              "      <td>0</td>\n",
              "      <td>10</td>\n",
              "      <td>6.0</td>\n",
              "      <td>7.0</td>\n",
              "    </tr>\n",
              "    <tr>\n",
              "      <th>2</th>\n",
              "      <td>144211</td>\n",
              "      <td>0</td>\n",
              "      <td>0</td>\n",
              "      <td>1.0</td>\n",
              "      <td>1</td>\n",
              "      <td>24.0</td>\n",
              "      <td>1.0</td>\n",
              "      <td>0.0</td>\n",
              "      <td>0.0</td>\n",
              "      <td>1</td>\n",
              "      <td>...</td>\n",
              "      <td>1</td>\n",
              "      <td>0.0</td>\n",
              "      <td>2.0</td>\n",
              "      <td>0.0</td>\n",
              "      <td>0.0</td>\n",
              "      <td>0.0</td>\n",
              "      <td>0</td>\n",
              "      <td>12</td>\n",
              "      <td>5.0</td>\n",
              "      <td>6.0</td>\n",
              "    </tr>\n",
              "    <tr>\n",
              "      <th>3</th>\n",
              "      <td>89872</td>\n",
              "      <td>2</td>\n",
              "      <td>1</td>\n",
              "      <td>1.0</td>\n",
              "      <td>1</td>\n",
              "      <td>38.0</td>\n",
              "      <td>0.0</td>\n",
              "      <td>0.0</td>\n",
              "      <td>0.0</td>\n",
              "      <td>1</td>\n",
              "      <td>...</td>\n",
              "      <td>1</td>\n",
              "      <td>0.0</td>\n",
              "      <td>3.0</td>\n",
              "      <td>0.0</td>\n",
              "      <td>0.0</td>\n",
              "      <td>0.0</td>\n",
              "      <td>1</td>\n",
              "      <td>7</td>\n",
              "      <td>6.0</td>\n",
              "      <td>8.0</td>\n",
              "    </tr>\n",
              "    <tr>\n",
              "      <th>4</th>\n",
              "      <td>34953</td>\n",
              "      <td>0</td>\n",
              "      <td>0</td>\n",
              "      <td>1.0</td>\n",
              "      <td>1</td>\n",
              "      <td>30.0</td>\n",
              "      <td>0.0</td>\n",
              "      <td>0.0</td>\n",
              "      <td>0.0</td>\n",
              "      <td>0</td>\n",
              "      <td>...</td>\n",
              "      <td>0</td>\n",
              "      <td>1.0</td>\n",
              "      <td>4.0</td>\n",
              "      <td>10.0</td>\n",
              "      <td>0.0</td>\n",
              "      <td>0.0</td>\n",
              "      <td>0</td>\n",
              "      <td>5</td>\n",
              "      <td>3.0</td>\n",
              "      <td>7.0</td>\n",
              "    </tr>\n",
              "  </tbody>\n",
              "</table>\n",
              "<p>5 rows × 23 columns</p>\n",
              "</div>"
            ],
            "text/plain": [
              "   Unnamed: 0  Diabetes_012  HighBP  HighChol  CholCheck   BMI  Smoker  \\\n",
              "0      111866             2       1       1.0          1  32.0     1.0   \n",
              "1      206199             0       0       1.0          1  28.0     0.0   \n",
              "2      144211             0       0       1.0          1  24.0     1.0   \n",
              "3       89872             2       1       1.0          1  38.0     0.0   \n",
              "4       34953             0       0       1.0          1  30.0     0.0   \n",
              "\n",
              "   Stroke  HeartDiseaseorAttack  PhysActivity  ...  AnyHealthcare  \\\n",
              "0     0.0                   1.0             1  ...              1   \n",
              "1     0.0                   0.0             0  ...              1   \n",
              "2     0.0                   0.0             1  ...              1   \n",
              "3     0.0                   0.0             1  ...              1   \n",
              "4     0.0                   0.0             0  ...              0   \n",
              "\n",
              "   NoDocbcCost  GenHlth  MentHlth  PhysHlth  DiffWalk  Sex  Age  Education  \\\n",
              "0          0.0      2.0      15.0       0.0       0.0    1    7        6.0   \n",
              "1          0.0      4.0       4.0      30.0       0.0    0   10        6.0   \n",
              "2          0.0      2.0       0.0       0.0       0.0    0   12        5.0   \n",
              "3          0.0      3.0       0.0       0.0       0.0    1    7        6.0   \n",
              "4          1.0      4.0      10.0       0.0       0.0    0    5        3.0   \n",
              "\n",
              "   Income  \n",
              "0     6.0  \n",
              "1     7.0  \n",
              "2     6.0  \n",
              "3     8.0  \n",
              "4     7.0  \n",
              "\n",
              "[5 rows x 23 columns]"
            ]
          },
          "execution_count": 28,
          "metadata": {},
          "output_type": "execute_result"
        }
      ],
      "source": [
        "test_data.head()"
      ]
    },
    {
      "cell_type": "code",
      "execution_count": 29,
      "id": "ZD_7anuFyHNO",
      "metadata": {
        "id": "ZD_7anuFyHNO"
      },
      "outputs": [],
      "source": [
        "test_data.drop('Unnamed: 0', axis = 1, inplace = True)"
      ]
    },
    {
      "cell_type": "code",
      "execution_count": 35,
      "id": "783f169d",
      "metadata": {
        "execution": {
          "iopub.execute_input": "2022-10-06T21:16:33.075874Z",
          "iopub.status.busy": "2022-10-06T21:16:33.075057Z",
          "iopub.status.idle": "2022-10-06T21:16:33.106073Z",
          "shell.execute_reply": "2022-10-06T21:16:33.104754Z"
        },
        "id": "783f169d",
        "papermill": {
          "duration": 0.127281,
          "end_time": "2022-10-06T21:16:33.108762",
          "exception": false,
          "start_time": "2022-10-06T21:16:32.981481",
          "status": "completed"
        },
        "tags": []
      },
      "outputs": [],
      "source": [
        "y_train = df['Diabetes_012']\n",
        "x_train = df.drop(['Diabetes_012'], axis=1)\n",
        "y_test = test_data['Diabetes_012']\n",
        "x_test = test_data.drop(['Diabetes_012'], axis = 1)"
      ]
    },
    {
      "cell_type": "markdown",
      "id": "ea0752b6",
      "metadata": {
        "id": "ea0752b6",
        "papermill": {
          "duration": 0.091409,
          "end_time": "2022-10-06T21:16:49.520507",
          "exception": false,
          "start_time": "2022-10-06T21:16:49.429098",
          "status": "completed"
        },
        "tags": []
      },
      "source": [
        "# First Try\n",
        "### Try to make all classes like diabetes"
      ]
    },
    {
      "cell_type": "code",
      "execution_count": 36,
      "id": "f2aa9f8e",
      "metadata": {
        "execution": {
          "iopub.execute_input": "2022-10-06T21:16:49.706988Z",
          "iopub.status.busy": "2022-10-06T21:16:49.706301Z",
          "iopub.status.idle": "2022-10-06T21:16:49.718630Z",
          "shell.execute_reply": "2022-10-06T21:16:49.717597Z"
        },
        "id": "f2aa9f8e",
        "outputId": "3a3d3c65-500f-46fe-83b4-122ebcad6f2c",
        "papermill": {
          "duration": 0.108374,
          "end_time": "2022-10-06T21:16:49.720800",
          "exception": false,
          "start_time": "2022-10-06T21:16:49.612426",
          "status": "completed"
        },
        "scrolled": true,
        "tags": []
      },
      "outputs": [
        {
          "data": {
            "text/plain": [
              "(6678, 22)"
            ]
          },
          "execution_count": 36,
          "metadata": {},
          "output_type": "execute_result"
        }
      ],
      "source": [
        "df[df['Diabetes_012']==2].shape"
      ]
    },
    {
      "cell_type": "code",
      "execution_count": 37,
      "id": "ebc0e3db",
      "metadata": {
        "execution": {
          "iopub.execute_input": "2022-10-06T21:16:49.907025Z",
          "iopub.status.busy": "2022-10-06T21:16:49.906251Z",
          "iopub.status.idle": "2022-10-06T21:16:49.943654Z",
          "shell.execute_reply": "2022-10-06T21:16:49.942626Z"
        },
        "id": "ebc0e3db",
        "outputId": "58f14f4d-f839-4238-fdbf-7f6af44fe68b",
        "papermill": {
          "duration": 0.133489,
          "end_time": "2022-10-06T21:16:49.946330",
          "exception": false,
          "start_time": "2022-10-06T21:16:49.812841",
          "status": "completed"
        },
        "tags": []
      },
      "outputs": [
        {
          "data": {
            "text/plain": [
              "0.1724645541179205"
            ]
          },
          "execution_count": 37,
          "metadata": {},
          "output_type": "execute_result"
        }
      ],
      "source": [
        "df[df['Diabetes_012']==2].shape[0]/df[df['Diabetes_012']==0].shape[0]"
      ]
    },
    {
      "cell_type": "code",
      "execution_count": 38,
      "id": "c3a566f4",
      "metadata": {
        "execution": {
          "iopub.execute_input": "2022-10-06T21:16:50.135276Z",
          "iopub.status.busy": "2022-10-06T21:16:50.134881Z",
          "iopub.status.idle": "2022-10-06T21:16:50.181905Z",
          "shell.execute_reply": "2022-10-06T21:16:50.180308Z"
        },
        "id": "c3a566f4",
        "outputId": "820b17a6-20cc-4dda-a6c1-dce1a9f17f65",
        "papermill": {
          "duration": 0.145723,
          "end_time": "2022-10-06T21:16:50.185371",
          "exception": false,
          "start_time": "2022-10-06T21:16:50.039648",
          "status": "completed"
        },
        "tags": []
      },
      "outputs": [
        {
          "data": {
            "text/plain": [
              "0    6678\n",
              "Name: Diabetes_012, dtype: int64"
            ]
          },
          "execution_count": 38,
          "metadata": {},
          "output_type": "execute_result"
        }
      ],
      "source": [
        "df_new=df[df['Diabetes_012']==0]\n",
        "df_new = df_new.sample(frac=0.1724645541179205)\n",
        "df_new['Diabetes_012'].value_counts()"
      ]
    },
    {
      "cell_type": "code",
      "execution_count": 39,
      "id": "f2330246",
      "metadata": {
        "execution": {
          "iopub.execute_input": "2022-10-06T21:16:50.413156Z",
          "iopub.status.busy": "2022-10-06T21:16:50.412412Z",
          "iopub.status.idle": "2022-10-06T21:16:50.430532Z",
          "shell.execute_reply": "2022-10-06T21:16:50.429409Z"
        },
        "id": "f2330246",
        "outputId": "d83a5d08-24ee-4aab-81f4-60d1b8eb3568",
        "papermill": {
          "duration": 0.130032,
          "end_time": "2022-10-06T21:16:50.433025",
          "exception": false,
          "start_time": "2022-10-06T21:16:50.302993",
          "status": "completed"
        },
        "tags": []
      },
      "outputs": [
        {
          "data": {
            "text/plain": [
              "2    6678\n",
              "Name: Diabetes_012, dtype: int64"
            ]
          },
          "execution_count": 39,
          "metadata": {},
          "output_type": "execute_result"
        }
      ],
      "source": [
        "df_new2=df[df['Diabetes_012']==2]\n",
        "df_new2['Diabetes_012'].value_counts()"
      ]
    },
    {
      "cell_type": "code",
      "execution_count": 40,
      "id": "4f1b5f3a",
      "metadata": {
        "execution": {
          "iopub.execute_input": "2022-10-06T21:16:50.661829Z",
          "iopub.status.busy": "2022-10-06T21:16:50.661140Z",
          "iopub.status.idle": "2022-10-06T21:16:50.670538Z",
          "shell.execute_reply": "2022-10-06T21:16:50.669445Z"
        },
        "id": "4f1b5f3a",
        "outputId": "2314e633-35b1-4dd9-b7dd-fc3f6d689763",
        "papermill": {
          "duration": 0.121759,
          "end_time": "2022-10-06T21:16:50.672850",
          "exception": false,
          "start_time": "2022-10-06T21:16:50.551091",
          "status": "completed"
        },
        "tags": []
      },
      "outputs": [
        {
          "data": {
            "text/plain": [
              "6.194805194805195"
            ]
          },
          "execution_count": 40,
          "metadata": {},
          "output_type": "execute_result"
        }
      ],
      "source": [
        "df_new.shape[0]/df[df['Diabetes_012']==1].shape[0]"
      ]
    },
    {
      "cell_type": "code",
      "execution_count": 41,
      "id": "7ab7134b",
      "metadata": {
        "execution": {
          "iopub.execute_input": "2022-10-06T21:16:50.889814Z",
          "iopub.status.busy": "2022-10-06T21:16:50.889397Z",
          "iopub.status.idle": "2022-10-06T21:16:50.905130Z",
          "shell.execute_reply": "2022-10-06T21:16:50.904344Z"
        },
        "id": "7ab7134b",
        "outputId": "85d37277-f650-4fbe-a393-e69e41c37104",
        "papermill": {
          "duration": 0.126536,
          "end_time": "2022-10-06T21:16:50.907631",
          "exception": false,
          "start_time": "2022-10-06T21:16:50.781095",
          "status": "completed"
        },
        "tags": []
      },
      "outputs": [
        {
          "data": {
            "text/plain": [
              "1    6678\n",
              "Name: Diabetes_012, dtype: int64"
            ]
          },
          "execution_count": 41,
          "metadata": {},
          "output_type": "execute_result"
        }
      ],
      "source": [
        "df_new3=df[df['Diabetes_012']==1]\n",
        "df_new3 = df_new3.sample(frac=6.194805194805195, replace=True)\n",
        "df_new3['Diabetes_012'].value_counts()"
      ]
    },
    {
      "cell_type": "code",
      "execution_count": 42,
      "id": "01d0e68f",
      "metadata": {
        "execution": {
          "iopub.execute_input": "2022-10-06T21:16:51.125654Z",
          "iopub.status.busy": "2022-10-06T21:16:51.125086Z",
          "iopub.status.idle": "2022-10-06T21:16:51.138543Z",
          "shell.execute_reply": "2022-10-06T21:16:51.137549Z"
        },
        "id": "01d0e68f",
        "papermill": {
          "duration": 0.126104,
          "end_time": "2022-10-06T21:16:51.141330",
          "exception": false,
          "start_time": "2022-10-06T21:16:51.015226",
          "status": "completed"
        },
        "tags": []
      },
      "outputs": [],
      "source": [
        "df_all=pd.concat([df_new,df_new2,df_new3])"
      ]
    },
    {
      "cell_type": "code",
      "execution_count": 43,
      "id": "2ac47b0a",
      "metadata": {
        "execution": {
          "iopub.execute_input": "2022-10-06T21:16:51.365551Z",
          "iopub.status.busy": "2022-10-06T21:16:51.364562Z",
          "iopub.status.idle": "2022-10-06T21:16:51.371099Z",
          "shell.execute_reply": "2022-10-06T21:16:51.370346Z"
        },
        "id": "2ac47b0a",
        "outputId": "e86103d7-1b52-4dd0-8192-c2e4bfa6da0d",
        "papermill": {
          "duration": 0.12211,
          "end_time": "2022-10-06T21:16:51.373036",
          "exception": false,
          "start_time": "2022-10-06T21:16:51.250926",
          "status": "completed"
        },
        "tags": []
      },
      "outputs": [
        {
          "data": {
            "text/plain": [
              "(20034, 22)"
            ]
          },
          "execution_count": 43,
          "metadata": {},
          "output_type": "execute_result"
        }
      ],
      "source": [
        "df_all.shape"
      ]
    },
    {
      "cell_type": "code",
      "execution_count": 44,
      "id": "6bbaa48d",
      "metadata": {
        "execution": {
          "iopub.execute_input": "2022-10-06T21:16:51.593258Z",
          "iopub.status.busy": "2022-10-06T21:16:51.592197Z",
          "iopub.status.idle": "2022-10-06T21:16:51.639535Z",
          "shell.execute_reply": "2022-10-06T21:16:51.638243Z"
        },
        "id": "6bbaa48d",
        "papermill": {
          "duration": 0.161575,
          "end_time": "2022-10-06T21:16:51.642551",
          "exception": false,
          "start_time": "2022-10-06T21:16:51.480976",
          "status": "completed"
        },
        "tags": []
      },
      "outputs": [],
      "source": [
        "y = df_all['Diabetes_012']\n",
        "x = df_all.drop(['Diabetes_012'], axis=1)"
      ]
    },
    {
      "cell_type": "code",
      "execution_count": 46,
      "id": "8dbeab79",
      "metadata": {
        "execution": {
          "iopub.execute_input": "2022-10-06T21:17:04.627896Z",
          "iopub.status.busy": "2022-10-06T21:17:04.627491Z",
          "iopub.status.idle": "2022-10-06T21:17:06.991615Z",
          "shell.execute_reply": "2022-10-06T21:17:06.989895Z"
        },
        "id": "8dbeab79",
        "outputId": "ffcdd67b-d463-41c9-8cef-e93b4415524d",
        "papermill": {
          "duration": 2.461534,
          "end_time": "2022-10-06T21:17:06.994304",
          "exception": false,
          "start_time": "2022-10-06T21:17:04.532770",
          "status": "completed"
        },
        "tags": []
      },
      "outputs": [
        {
          "name": "stdout",
          "output_type": "stream",
          "text": [
            "train f1 =  0.5206149545772187\n",
            "test f1 =  0.609527032743887\n"
          ]
        }
      ],
      "source": [
        "\n",
        "svm_1 = svm.SVC()\n",
        "svm_1.fit(x,y)\n",
        "\n",
        "\n",
        "\n",
        "y_pred_test_svm1 = svm_1.predict(x_test)\n",
        "f1_test_svm1 = f1_score(y_test, y_pred_test_svm1, average='micro')\n",
        "\n",
        "y_pred_train_svm1 = svm_1.predict(x)\n",
        "f1_train_svm1 = f1_score(y, y_pred_train_svm1, average='micro')\n",
        "print(f'train f1 = ', f1_train_svm1)\n",
        "print(f'test f1 = ', f1_test_svm1)\n"
      ]
    },
    {
      "cell_type": "code",
      "execution_count": 47,
      "id": "7a3d0706",
      "metadata": {
        "execution": {
          "iopub.execute_input": "2022-10-06T21:17:07.183199Z",
          "iopub.status.busy": "2022-10-06T21:17:07.182820Z",
          "iopub.status.idle": "2022-10-06T21:17:07.259793Z",
          "shell.execute_reply": "2022-10-06T21:17:07.258426Z"
        },
        "id": "7a3d0706",
        "outputId": "73265489-4926-4a63-9e30-c1498595b949",
        "papermill": {
          "duration": 0.175583,
          "end_time": "2022-10-06T21:17:07.263062",
          "exception": false,
          "start_time": "2022-10-06T21:17:07.087479",
          "status": "completed"
        },
        "tags": []
      },
      "outputs": [
        {
          "name": "stdout",
          "output_type": "stream",
          "text": [
            "              precision    recall  f1-score   support\n",
            "\n",
            "           0       0.95      0.61      0.75      9855\n",
            "           1       0.03      0.29      0.06       263\n",
            "           2       0.34      0.64      0.45      1701\n",
            "\n",
            "    accuracy                           0.61     11819\n",
            "   macro avg       0.44      0.51      0.42     11819\n",
            "weighted avg       0.84      0.61      0.69     11819\n",
            "\n"
          ]
        }
      ],
      "source": [
        "print(classification_report(y_test, y_pred_test_svm1))"
      ]
    },
    {
      "cell_type": "markdown",
      "id": "810caccc",
      "metadata": {
        "id": "810caccc",
        "papermill": {
          "duration": 0.094538,
          "end_time": "2022-10-06T21:17:26.503184",
          "exception": false,
          "start_time": "2022-10-06T21:17:26.408646",
          "status": "completed"
        },
        "tags": []
      },
      "source": [
        "# Second Try\n",
        "## Try to make all classes like prediabetes"
      ]
    },
    {
      "cell_type": "code",
      "execution_count": 68,
      "id": "c8099bdc",
      "metadata": {
        "execution": {
          "iopub.execute_input": "2022-10-06T21:17:26.693992Z",
          "iopub.status.busy": "2022-10-06T21:17:26.693619Z",
          "iopub.status.idle": "2022-10-06T21:17:26.703690Z",
          "shell.execute_reply": "2022-10-06T21:17:26.702593Z"
        },
        "id": "c8099bdc",
        "outputId": "63c118b5-db85-4e6f-a164-bd94e4c3a524",
        "papermill": {
          "duration": 0.10893,
          "end_time": "2022-10-06T21:17:26.705982",
          "exception": false,
          "start_time": "2022-10-06T21:17:26.597052",
          "status": "completed"
        },
        "tags": []
      },
      "outputs": [
        {
          "data": {
            "text/plain": [
              "(1078, 22)"
            ]
          },
          "execution_count": 68,
          "metadata": {},
          "output_type": "execute_result"
        }
      ],
      "source": [
        "df[df['Diabetes_012']==1].shape"
      ]
    },
    {
      "cell_type": "code",
      "execution_count": 69,
      "id": "acccb061",
      "metadata": {
        "execution": {
          "iopub.execute_input": "2022-10-06T21:17:26.900209Z",
          "iopub.status.busy": "2022-10-06T21:17:26.899800Z",
          "iopub.status.idle": "2022-10-06T21:17:26.928151Z",
          "shell.execute_reply": "2022-10-06T21:17:26.927399Z"
        },
        "id": "acccb061",
        "outputId": "fd04cd39-69e5-4d1b-dbb7-e296e046fbc6",
        "papermill": {
          "duration": 0.128438,
          "end_time": "2022-10-06T21:17:26.930294",
          "exception": false,
          "start_time": "2022-10-06T21:17:26.801856",
          "status": "completed"
        },
        "tags": []
      },
      "outputs": [
        {
          "data": {
            "text/plain": [
              "0.027840190077735597"
            ]
          },
          "execution_count": 69,
          "metadata": {},
          "output_type": "execute_result"
        }
      ],
      "source": [
        "df[df['Diabetes_012']==1].shape[0]/df[df['Diabetes_012']==0].shape[0]"
      ]
    },
    {
      "cell_type": "code",
      "execution_count": 70,
      "id": "2991d480",
      "metadata": {
        "execution": {
          "iopub.execute_input": "2022-10-06T21:17:27.121352Z",
          "iopub.status.busy": "2022-10-06T21:17:27.120618Z",
          "iopub.status.idle": "2022-10-06T21:17:27.152991Z",
          "shell.execute_reply": "2022-10-06T21:17:27.151943Z"
        },
        "id": "2991d480",
        "outputId": "9351da27-12d8-4293-969e-8672d28935a3",
        "papermill": {
          "duration": 0.130443,
          "end_time": "2022-10-06T21:17:27.155449",
          "exception": false,
          "start_time": "2022-10-06T21:17:27.025006",
          "status": "completed"
        },
        "tags": []
      },
      "outputs": [
        {
          "data": {
            "text/plain": [
              "0    1078\n",
              "Name: Diabetes_012, dtype: int64"
            ]
          },
          "execution_count": 70,
          "metadata": {},
          "output_type": "execute_result"
        }
      ],
      "source": [
        "df_new=df[df['Diabetes_012']==0]\n",
        "df_new = df_new.sample(frac=0.027840190077735597)\n",
        "df_new['Diabetes_012'].value_counts()"
      ]
    },
    {
      "cell_type": "code",
      "execution_count": 71,
      "id": "1a02772c",
      "metadata": {
        "execution": {
          "iopub.execute_input": "2022-10-06T21:17:27.350360Z",
          "iopub.status.busy": "2022-10-06T21:17:27.349977Z",
          "iopub.status.idle": "2022-10-06T21:17:27.360521Z",
          "shell.execute_reply": "2022-10-06T21:17:27.359522Z"
        },
        "id": "1a02772c",
        "outputId": "5af029b8-2214-40a6-c10e-23fa06b18b01",
        "papermill": {
          "duration": 0.110281,
          "end_time": "2022-10-06T21:17:27.363006",
          "exception": false,
          "start_time": "2022-10-06T21:17:27.252725",
          "status": "completed"
        },
        "tags": []
      },
      "outputs": [
        {
          "data": {
            "text/plain": [
              "1    1078\n",
              "Name: Diabetes_012, dtype: int64"
            ]
          },
          "execution_count": 71,
          "metadata": {},
          "output_type": "execute_result"
        }
      ],
      "source": [
        "df_new2=df[df['Diabetes_012']==1]\n",
        "df_new2['Diabetes_012'].value_counts()"
      ]
    },
    {
      "cell_type": "code",
      "execution_count": 72,
      "id": "54fa33aa",
      "metadata": {
        "execution": {
          "iopub.execute_input": "2022-10-06T21:17:27.556194Z",
          "iopub.status.busy": "2022-10-06T21:17:27.555807Z",
          "iopub.status.idle": "2022-10-06T21:17:27.569179Z",
          "shell.execute_reply": "2022-10-06T21:17:27.568118Z"
        },
        "id": "54fa33aa",
        "outputId": "b4a71a2f-4c34-498f-baa9-552e9b833653",
        "papermill": {
          "duration": 0.111788,
          "end_time": "2022-10-06T21:17:27.571453",
          "exception": false,
          "start_time": "2022-10-06T21:17:27.459665",
          "status": "completed"
        },
        "tags": []
      },
      "outputs": [
        {
          "data": {
            "text/plain": [
              "0.16142557651991615"
            ]
          },
          "execution_count": 72,
          "metadata": {},
          "output_type": "execute_result"
        }
      ],
      "source": [
        "df_new.shape[0]/df[df['Diabetes_012']==2].shape[0]"
      ]
    },
    {
      "cell_type": "code",
      "execution_count": 73,
      "id": "dfe74f20",
      "metadata": {
        "execution": {
          "iopub.execute_input": "2022-10-06T21:17:27.765344Z",
          "iopub.status.busy": "2022-10-06T21:17:27.764626Z",
          "iopub.status.idle": "2022-10-06T21:17:27.781697Z",
          "shell.execute_reply": "2022-10-06T21:17:27.780899Z"
        },
        "id": "dfe74f20",
        "outputId": "0ab76413-56c0-466c-8ff5-f7cb20c4795b",
        "papermill": {
          "duration": 0.115282,
          "end_time": "2022-10-06T21:17:27.783736",
          "exception": false,
          "start_time": "2022-10-06T21:17:27.668454",
          "status": "completed"
        },
        "tags": []
      },
      "outputs": [
        {
          "data": {
            "text/plain": [
              "2    1078\n",
              "Name: Diabetes_012, dtype: int64"
            ]
          },
          "execution_count": 73,
          "metadata": {},
          "output_type": "execute_result"
        }
      ],
      "source": [
        "df_new3=df[df['Diabetes_012']==2]\n",
        "df_new3 = df_new3.sample(frac=0.16142557651991615\n",
        ")\n",
        "df_new3['Diabetes_012'].value_counts()"
      ]
    },
    {
      "cell_type": "code",
      "execution_count": 74,
      "id": "8e416d3d",
      "metadata": {
        "execution": {
          "iopub.execute_input": "2022-10-06T21:17:27.979132Z",
          "iopub.status.busy": "2022-10-06T21:17:27.978438Z",
          "iopub.status.idle": "2022-10-06T21:17:27.984153Z",
          "shell.execute_reply": "2022-10-06T21:17:27.983385Z"
        },
        "id": "8e416d3d",
        "papermill": {
          "duration": 0.105587,
          "end_time": "2022-10-06T21:17:27.986221",
          "exception": false,
          "start_time": "2022-10-06T21:17:27.880634",
          "status": "completed"
        },
        "tags": []
      },
      "outputs": [],
      "source": [
        "df_all=pd.concat([df_new,df_new2,df_new3])"
      ]
    },
    {
      "cell_type": "code",
      "execution_count": 75,
      "id": "309790b2",
      "metadata": {
        "execution": {
          "iopub.execute_input": "2022-10-06T21:17:28.181110Z",
          "iopub.status.busy": "2022-10-06T21:17:28.180427Z",
          "iopub.status.idle": "2022-10-06T21:17:28.187197Z",
          "shell.execute_reply": "2022-10-06T21:17:28.186146Z"
        },
        "id": "309790b2",
        "outputId": "1fa8e6df-1b58-4921-cb22-0012394ead51",
        "papermill": {
          "duration": 0.108835,
          "end_time": "2022-10-06T21:17:28.189707",
          "exception": false,
          "start_time": "2022-10-06T21:17:28.080872",
          "status": "completed"
        },
        "tags": []
      },
      "outputs": [
        {
          "data": {
            "text/plain": [
              "(3234, 22)"
            ]
          },
          "execution_count": 75,
          "metadata": {},
          "output_type": "execute_result"
        }
      ],
      "source": [
        "df_all.shape"
      ]
    },
    {
      "cell_type": "code",
      "execution_count": 77,
      "id": "2199982d",
      "metadata": {
        "execution": {
          "iopub.execute_input": "2022-10-06T21:17:28.384421Z",
          "iopub.status.busy": "2022-10-06T21:17:28.383108Z",
          "iopub.status.idle": "2022-10-06T21:17:28.394219Z",
          "shell.execute_reply": "2022-10-06T21:17:28.393219Z"
        },
        "id": "2199982d",
        "papermill": {
          "duration": 0.109987,
          "end_time": "2022-10-06T21:17:28.396618",
          "exception": false,
          "start_time": "2022-10-06T21:17:28.286631",
          "status": "completed"
        },
        "tags": []
      },
      "outputs": [],
      "source": [
        "y = df_all['Diabetes_012']\n",
        "x = df_all.drop(['Diabetes_012'], axis=1)"
      ]
    },
    {
      "cell_type": "code",
      "execution_count": 78,
      "id": "f3dee500",
      "metadata": {
        "execution": {
          "iopub.execute_input": "2022-10-06T21:17:30.102344Z",
          "iopub.status.busy": "2022-10-06T21:17:30.101343Z",
          "iopub.status.idle": "2022-10-06T21:17:31.180934Z",
          "shell.execute_reply": "2022-10-06T21:17:31.179696Z"
        },
        "id": "f3dee500",
        "outputId": "0ddb1d47-8b24-424c-b949-0ea47b69b0df",
        "papermill": {
          "duration": 1.190156,
          "end_time": "2022-10-06T21:17:31.183834",
          "exception": false,
          "start_time": "2022-10-06T21:17:29.993678",
          "status": "completed"
        },
        "tags": []
      },
      "outputs": [
        {
          "name": "stdout",
          "output_type": "stream",
          "text": [
            "train acc =  0.48794063079777367\n",
            "test acc =  0.5941280988239276\n"
          ]
        }
      ],
      "source": [
        "svm_2 = svm.SVC()\n",
        "svm_2.fit(x,y)\n",
        "\n",
        "y_pred_train_svm2 = svm_2.predict(x)\n",
        "f1_train_svm2 = f1_score(y, y_pred_train_svm2)\n",
        "\n",
        "\n",
        "y_pred_test_svm2 = svm_2.predict(x_test)\n",
        "f1_test_svm2 = f1_score(y_test, y_pred_test_svm2)\n",
        "\n",
        "print(f'train f1 = ', f1_train_svm2)\n",
        "print(f'test f1 = ', f1_test_svm2)\n"
      ]
    },
    {
      "cell_type": "code",
      "execution_count": 79,
      "id": "2a73c7c0",
      "metadata": {
        "execution": {
          "iopub.execute_input": "2022-10-06T21:17:32.460557Z",
          "iopub.status.busy": "2022-10-06T21:17:32.459814Z",
          "iopub.status.idle": "2022-10-06T21:17:32.478693Z",
          "shell.execute_reply": "2022-10-06T21:17:32.477117Z"
        },
        "id": "2a73c7c0",
        "outputId": "5a6db1c3-556b-4425-a34c-f6ff1bb881b4",
        "papermill": {
          "duration": 0.123103,
          "end_time": "2022-10-06T21:17:32.482059",
          "exception": false,
          "start_time": "2022-10-06T21:17:32.358956",
          "status": "completed"
        },
        "tags": []
      },
      "outputs": [
        {
          "name": "stdout",
          "output_type": "stream",
          "text": [
            "              precision    recall  f1-score   support\n",
            "\n",
            "           0       0.95      0.60      0.73      9855\n",
            "           1       0.03      0.22      0.05       263\n",
            "           2       0.31      0.64      0.42      1701\n",
            "\n",
            "    accuracy                           0.59     11819\n",
            "   macro avg       0.43      0.49      0.40     11819\n",
            "weighted avg       0.84      0.59      0.67     11819\n",
            "\n"
          ]
        }
      ],
      "source": [
        "print(classification_report(y_test, y_pred_test_svm2))"
      ]
    },
    {
      "cell_type": "markdown",
      "id": "65c26f32",
      "metadata": {
        "id": "65c26f32",
        "papermill": {
          "duration": 0.093874,
          "end_time": "2022-10-06T21:17:32.672826",
          "exception": false,
          "start_time": "2022-10-06T21:17:32.578952",
          "status": "completed"
        },
        "tags": []
      },
      "source": [
        "# Third Try (SMOTE)"
      ]
    },
    {
      "cell_type": "code",
      "execution_count": 31,
      "id": "15d3cc3c",
      "metadata": {
        "execution": {
          "iopub.execute_input": "2022-10-06T21:17:35.322585Z",
          "iopub.status.busy": "2022-10-06T21:17:35.321237Z",
          "iopub.status.idle": "2022-10-06T21:17:50.674889Z",
          "shell.execute_reply": "2022-10-06T21:17:50.673709Z"
        },
        "id": "15d3cc3c",
        "papermill": {
          "duration": 15.454629,
          "end_time": "2022-10-06T21:17:50.677639",
          "exception": false,
          "start_time": "2022-10-06T21:17:35.223010",
          "status": "completed"
        },
        "tags": []
      },
      "outputs": [],
      "source": [
        "sm = SMOTE(random_state=42)\n",
        "X_res, y_res = sm.fit_resample(x_train, y_train)"
      ]
    },
    {
      "cell_type": "code",
      "execution_count": 98,
      "id": "3d458c63",
      "metadata": {},
      "outputs": [],
      "source": [
        "svm_3 = svm.SVC()\n",
        "svm_3.fit(X_res,y_res)\n",
        "\n",
        "y_pred_train_svm3 = svm_3.predict(X_res)\n",
        "f1_train_svm3 = f1_score(y_res, y_pred_train_svm3)\n",
        "\n",
        "\n",
        "y_pred_test_svm3 = svm_3.predict(x_test)\n",
        "f1_test_svm3 = f1_score(y_test, y_pred_test_svm3)\n",
        "\n",
        "print(f'train f1 = ', f1_train_svm3)\n",
        "print(f'test f1 = ', f1_test_svm3)\n"
      ]
    },
    {
      "cell_type": "code",
      "execution_count": 85,
      "id": "0bcb2e40",
      "metadata": {
        "execution": {
          "iopub.execute_input": "2022-10-06T21:17:52.825343Z",
          "iopub.status.busy": "2022-10-06T21:17:52.824353Z",
          "iopub.status.idle": "2022-10-06T21:17:52.951226Z",
          "shell.execute_reply": "2022-10-06T21:17:52.948771Z"
        },
        "id": "0bcb2e40",
        "outputId": "b472ba8e-9de2-44fc-9823-487dae5bfbe4",
        "papermill": {
          "duration": 0.226041,
          "end_time": "2022-10-06T21:17:52.953536",
          "exception": false,
          "start_time": "2022-10-06T21:17:52.727495",
          "status": "completed"
        },
        "tags": []
      },
      "outputs": [
        {
          "name": "stdout",
          "output_type": "stream",
          "text": [
            "              precision    recall  f1-score   support\n",
            "\n",
            "           0       0.95      0.60      0.73      9855\n",
            "           1       0.03      0.22      0.05       263\n",
            "           2       0.31      0.64      0.42      1701\n",
            "\n",
            "    accuracy                           0.59     11819\n",
            "   macro avg       0.43      0.49      0.40     11819\n",
            "weighted avg       0.84      0.59      0.67     11819\n",
            "\n"
          ]
        }
      ],
      "source": [
        "print(classification_report(y_test, y_pred_test_svm3))"
      ]
    },
    {
      "cell_type": "markdown",
      "id": "5b6a24ea",
      "metadata": {
        "id": "5b6a24ea",
        "papermill": {
          "duration": 0.09949,
          "end_time": "2022-10-06T21:19:39.467608",
          "exception": false,
          "start_time": "2022-10-06T21:19:39.368118",
          "status": "completed"
        },
        "tags": []
      },
      "source": [
        "## Hyper-parameter tuning"
      ]
    },
    {
      "cell_type": "code",
      "execution_count": 87,
      "id": "a4b2ed5d",
      "metadata": {},
      "outputs": [
        {
          "name": "stdout",
          "output_type": "stream",
          "text": [
            "Fitting 5 folds for each of 20 candidates, totalling 100 fits\n"
          ]
        },
        {
          "name": "stdout",
          "output_type": "stream",
          "text": [
            "[CV 1/5] END ........C=0.1, gamma=1, kernel=rbf;, score=0.332 total time=   4.3s\n",
            "[CV 2/5] END ........C=0.1, gamma=1, kernel=rbf;, score=0.332 total time=   3.7s\n",
            "[CV 3/5] END ........C=0.1, gamma=1, kernel=rbf;, score=0.332 total time=   3.5s\n",
            "[CV 4/5] END ........C=0.1, gamma=1, kernel=rbf;, score=0.332 total time=   3.4s\n",
            "[CV 5/5] END ........C=0.1, gamma=1, kernel=rbf;, score=0.336 total time=   3.5s\n",
            "[CV 1/5] END ......C=0.1, gamma=0.1, kernel=rbf;, score=0.400 total time=   2.9s\n",
            "[CV 2/5] END ......C=0.1, gamma=0.1, kernel=rbf;, score=0.393 total time=   2.8s\n",
            "[CV 3/5] END ......C=0.1, gamma=0.1, kernel=rbf;, score=0.413 total time=   2.8s\n",
            "[CV 4/5] END ......C=0.1, gamma=0.1, kernel=rbf;, score=0.411 total time=   3.2s\n",
            "[CV 5/5] END ......C=0.1, gamma=0.1, kernel=rbf;, score=0.415 total time=   3.1s\n",
            "[CV 1/5] END .....C=0.1, gamma=0.01, kernel=rbf;, score=0.440 total time=   2.7s\n",
            "[CV 2/5] END .....C=0.1, gamma=0.01, kernel=rbf;, score=0.465 total time=   2.7s\n",
            "[CV 3/5] END .....C=0.1, gamma=0.01, kernel=rbf;, score=0.447 total time=   2.8s\n",
            "[CV 4/5] END .....C=0.1, gamma=0.01, kernel=rbf;, score=0.422 total time=   2.6s\n",
            "[CV 5/5] END .....C=0.1, gamma=0.01, kernel=rbf;, score=0.471 total time=   2.8s\n",
            "[CV 1/5] END ....C=0.1, gamma=0.001, kernel=rbf;, score=0.425 total time=   2.8s\n",
            "[CV 2/5] END ....C=0.1, gamma=0.001, kernel=rbf;, score=0.470 total time=   2.6s\n",
            "[CV 3/5] END ....C=0.1, gamma=0.001, kernel=rbf;, score=0.430 total time=   2.8s\n",
            "[CV 4/5] END ....C=0.1, gamma=0.001, kernel=rbf;, score=0.434 total time=   2.6s\n",
            "[CV 5/5] END ....C=0.1, gamma=0.001, kernel=rbf;, score=0.461 total time=   2.7s\n",
            "[CV 1/5] END ...C=0.1, gamma=0.0001, kernel=rbf;, score=0.405 total time=   2.9s\n",
            "[CV 2/5] END ...C=0.1, gamma=0.0001, kernel=rbf;, score=0.363 total time=   3.0s\n",
            "[CV 3/5] END ...C=0.1, gamma=0.0001, kernel=rbf;, score=0.400 total time=   2.8s\n",
            "[CV 4/5] END ...C=0.1, gamma=0.0001, kernel=rbf;, score=0.399 total time=   2.8s\n",
            "[CV 5/5] END ...C=0.1, gamma=0.0001, kernel=rbf;, score=0.398 total time=   2.8s\n",
            "[CV 1/5] END ..........C=1, gamma=1, kernel=rbf;, score=0.377 total time=   3.8s\n",
            "[CV 2/5] END ..........C=1, gamma=1, kernel=rbf;, score=0.385 total time=   3.6s\n",
            "[CV 3/5] END ..........C=1, gamma=1, kernel=rbf;, score=0.405 total time=   3.6s\n",
            "[CV 4/5] END ..........C=1, gamma=1, kernel=rbf;, score=0.396 total time=   3.7s\n",
            "[CV 5/5] END ..........C=1, gamma=1, kernel=rbf;, score=0.387 total time=   4.0s\n",
            "[CV 1/5] END ........C=1, gamma=0.1, kernel=rbf;, score=0.451 total time=   3.1s\n",
            "[CV 2/5] END ........C=1, gamma=0.1, kernel=rbf;, score=0.445 total time=   3.0s\n",
            "[CV 3/5] END ........C=1, gamma=0.1, kernel=rbf;, score=0.470 total time=   3.1s\n",
            "[CV 4/5] END ........C=1, gamma=0.1, kernel=rbf;, score=0.437 total time=   2.8s\n",
            "[CV 5/5] END ........C=1, gamma=0.1, kernel=rbf;, score=0.483 total time=   2.9s\n",
            "[CV 1/5] END .......C=1, gamma=0.01, kernel=rbf;, score=0.464 total time=   2.5s\n",
            "[CV 2/5] END .......C=1, gamma=0.01, kernel=rbf;, score=0.459 total time=   2.8s\n",
            "[CV 3/5] END .......C=1, gamma=0.01, kernel=rbf;, score=0.465 total time=   2.5s\n",
            "[CV 4/5] END .......C=1, gamma=0.01, kernel=rbf;, score=0.473 total time=   2.5s\n",
            "[CV 5/5] END .......C=1, gamma=0.01, kernel=rbf;, score=0.477 total time=   2.4s\n",
            "[CV 1/5] END ......C=1, gamma=0.001, kernel=rbf;, score=0.445 total time=   2.7s\n",
            "[CV 2/5] END ......C=1, gamma=0.001, kernel=rbf;, score=0.495 total time=   2.6s\n",
            "[CV 3/5] END ......C=1, gamma=0.001, kernel=rbf;, score=0.479 total time=   2.5s\n",
            "[CV 4/5] END ......C=1, gamma=0.001, kernel=rbf;, score=0.468 total time=   2.6s\n",
            "[CV 5/5] END ......C=1, gamma=0.001, kernel=rbf;, score=0.480 total time=   2.5s\n",
            "[CV 1/5] END .....C=1, gamma=0.0001, kernel=rbf;, score=0.437 total time=   2.7s\n",
            "[CV 2/5] END .....C=1, gamma=0.0001, kernel=rbf;, score=0.473 total time=   2.7s\n",
            "[CV 3/5] END .....C=1, gamma=0.0001, kernel=rbf;, score=0.430 total time=   2.7s\n",
            "[CV 4/5] END .....C=1, gamma=0.0001, kernel=rbf;, score=0.436 total time=   3.0s\n",
            "[CV 5/5] END .....C=1, gamma=0.0001, kernel=rbf;, score=0.452 total time=   2.5s\n",
            "[CV 1/5] END .........C=10, gamma=1, kernel=rbf;, score=0.382 total time=   3.8s\n",
            "[CV 2/5] END .........C=10, gamma=1, kernel=rbf;, score=0.377 total time=   3.7s\n",
            "[CV 3/5] END .........C=10, gamma=1, kernel=rbf;, score=0.403 total time=   4.1s\n",
            "[CV 4/5] END .........C=10, gamma=1, kernel=rbf;, score=0.393 total time=   3.9s\n",
            "[CV 5/5] END .........C=10, gamma=1, kernel=rbf;, score=0.401 total time=   3.8s\n",
            "[CV 1/5] END .......C=10, gamma=0.1, kernel=rbf;, score=0.423 total time=   3.6s\n",
            "[CV 2/5] END .......C=10, gamma=0.1, kernel=rbf;, score=0.431 total time=   3.6s\n",
            "[CV 3/5] END .......C=10, gamma=0.1, kernel=rbf;, score=0.420 total time=   3.6s\n",
            "[CV 4/5] END .......C=10, gamma=0.1, kernel=rbf;, score=0.427 total time=   3.5s\n",
            "[CV 5/5] END .......C=10, gamma=0.1, kernel=rbf;, score=0.450 total time=   4.0s\n",
            "[CV 1/5] END ......C=10, gamma=0.01, kernel=rbf;, score=0.462 total time=   3.1s\n",
            "[CV 2/5] END ......C=10, gamma=0.01, kernel=rbf;, score=0.456 total time=   3.0s\n",
            "[CV 3/5] END ......C=10, gamma=0.01, kernel=rbf;, score=0.468 total time=   3.1s\n",
            "[CV 4/5] END ......C=10, gamma=0.01, kernel=rbf;, score=0.479 total time=   2.9s\n",
            "[CV 5/5] END ......C=10, gamma=0.01, kernel=rbf;, score=0.467 total time=   2.9s\n",
            "[CV 1/5] END .....C=10, gamma=0.001, kernel=rbf;, score=0.476 total time=   2.6s\n",
            "[CV 2/5] END .....C=10, gamma=0.001, kernel=rbf;, score=0.488 total time=   2.6s\n",
            "[CV 3/5] END .....C=10, gamma=0.001, kernel=rbf;, score=0.474 total time=   2.5s\n",
            "[CV 4/5] END .....C=10, gamma=0.001, kernel=rbf;, score=0.499 total time=   2.7s\n",
            "[CV 5/5] END .....C=10, gamma=0.001, kernel=rbf;, score=0.495 total time=   2.6s\n",
            "[CV 1/5] END ....C=10, gamma=0.0001, kernel=rbf;, score=0.457 total time=   2.5s\n",
            "[CV 2/5] END ....C=10, gamma=0.0001, kernel=rbf;, score=0.504 total time=   2.7s\n",
            "[CV 3/5] END ....C=10, gamma=0.0001, kernel=rbf;, score=0.487 total time=   2.8s\n",
            "[CV 4/5] END ....C=10, gamma=0.0001, kernel=rbf;, score=0.485 total time=   2.6s\n",
            "[CV 5/5] END ....C=10, gamma=0.0001, kernel=rbf;, score=0.498 total time=   2.6s\n",
            "[CV 1/5] END ........C=100, gamma=1, kernel=rbf;, score=0.382 total time=   3.5s\n",
            "[CV 2/5] END ........C=100, gamma=1, kernel=rbf;, score=0.377 total time=   3.6s\n",
            "[CV 3/5] END ........C=100, gamma=1, kernel=rbf;, score=0.403 total time=   3.5s\n",
            "[CV 4/5] END ........C=100, gamma=1, kernel=rbf;, score=0.393 total time=   3.7s\n",
            "[CV 5/5] END ........C=100, gamma=1, kernel=rbf;, score=0.401 total time=   3.6s\n",
            "[CV 1/5] END ......C=100, gamma=0.1, kernel=rbf;, score=0.414 total time=   3.7s\n",
            "[CV 2/5] END ......C=100, gamma=0.1, kernel=rbf;, score=0.433 total time=   3.7s\n",
            "[CV 3/5] END ......C=100, gamma=0.1, kernel=rbf;, score=0.405 total time=   4.1s\n",
            "[CV 4/5] END ......C=100, gamma=0.1, kernel=rbf;, score=0.423 total time=   3.8s\n",
            "[CV 5/5] END ......C=100, gamma=0.1, kernel=rbf;, score=0.433 total time=   3.7s\n",
            "[CV 1/5] END .....C=100, gamma=0.01, kernel=rbf;, score=0.462 total time=   5.1s\n",
            "[CV 2/5] END .....C=100, gamma=0.01, kernel=rbf;, score=0.440 total time=   5.2s\n",
            "[CV 3/5] END .....C=100, gamma=0.01, kernel=rbf;, score=0.440 total time=   5.2s\n",
            "[CV 4/5] END .....C=100, gamma=0.01, kernel=rbf;, score=0.444 total time=   5.2s\n",
            "[CV 5/5] END .....C=100, gamma=0.01, kernel=rbf;, score=0.463 total time=   5.5s\n",
            "[CV 1/5] END ....C=100, gamma=0.001, kernel=rbf;, score=0.473 total time=   3.0s\n",
            "[CV 2/5] END ....C=100, gamma=0.001, kernel=rbf;, score=0.481 total time=   3.0s\n",
            "[CV 3/5] END ....C=100, gamma=0.001, kernel=rbf;, score=0.474 total time=   3.1s\n",
            "[CV 4/5] END ....C=100, gamma=0.001, kernel=rbf;, score=0.510 total time=   3.1s\n",
            "[CV 5/5] END ....C=100, gamma=0.001, kernel=rbf;, score=0.492 total time=   3.2s\n",
            "[CV 1/5] END ...C=100, gamma=0.0001, kernel=rbf;, score=0.468 total time=   2.4s\n",
            "[CV 2/5] END ...C=100, gamma=0.0001, kernel=rbf;, score=0.501 total time=   2.5s\n",
            "[CV 3/5] END ...C=100, gamma=0.0001, kernel=rbf;, score=0.502 total time=   2.7s\n",
            "[CV 4/5] END ...C=100, gamma=0.0001, kernel=rbf;, score=0.507 total time=   2.5s\n",
            "[CV 5/5] END ...C=100, gamma=0.0001, kernel=rbf;, score=0.523 total time=   2.5s\n"
          ]
        },
        {
          "data": {
            "text/plain": [
              "GridSearchCV(estimator=SVC(),\n",
              "             param_grid={'C': [0.1, 1, 10, 100],\n",
              "                         'gamma': [1, 0.1, 0.01, 0.001, 0.0001],\n",
              "                         'kernel': ['rbf']},\n",
              "             scoring='f1_micro', verbose=3)"
            ]
          },
          "execution_count": 87,
          "metadata": {},
          "output_type": "execute_result"
        }
      ],
      "source": [
        "from sklearn.model_selection import GridSearchCV \n",
        "  \n",
        "# defining parameter range \n",
        "param_grid = {'C': [0.1, 1, 10, 100],  \n",
        "              'gamma': [1, 0.1, 0.01, 0.001, 0.0001], \n",
        "              'kernel': ['rbf']}  \n",
        "  \n",
        "grid = GridSearchCV(svm.SVC(), param_grid, refit = True, verbose = 3,scoring='f1_micro') \n",
        "  \n",
        "# fitting the model for grid search \n",
        "grid.fit(X_res, y_res) \n",
        "\n"
      ]
    },
    {
      "cell_type": "code",
      "execution_count": 88,
      "id": "d5ee8c81",
      "metadata": {},
      "outputs": [
        {
          "name": "stdout",
          "output_type": "stream",
          "text": [
            "{'C': 100, 'gamma': 0.0001, 'kernel': 'rbf'}\n",
            "SVC(C=100, gamma=0.0001)\n"
          ]
        }
      ],
      "source": [
        "# print best parameter after tuning \n",
        "print(grid.best_params_) \n",
        "\n",
        "# print how our model looks after hyper-parameter tuning \n",
        "print(grid.best_estimator_) \n"
      ]
    },
    {
      "cell_type": "code",
      "execution_count": 89,
      "id": "20168b15",
      "metadata": {},
      "outputs": [
        {
          "name": "stdout",
          "output_type": "stream",
          "text": [
            "              precision    recall  f1-score   support\n",
            "\n",
            "           0       0.95      0.64      0.76      9855\n",
            "           1       0.03      0.22      0.05       263\n",
            "           2       0.35      0.64      0.45      1701\n",
            "\n",
            "    accuracy                           0.63     11819\n",
            "   macro avg       0.44      0.50      0.42     11819\n",
            "weighted avg       0.84      0.63      0.70     11819\n",
            "\n"
          ]
        }
      ],
      "source": [
        "grid_predictions = grid.predict(x_test) \n",
        "  \n",
        "# print classification report \n",
        "print(classification_report(y_test, grid_predictions)) \n"
      ]
    },
    {
      "cell_type": "code",
      "execution_count": 49,
      "id": "8e6be769",
      "metadata": {},
      "outputs": [],
      "source": [
        "import pickle\n",
        "\n",
        "# best_model = grid.best_estimator_\n",
        "with open(\"svm.pkl\",\"wb\") as f:\n",
        "    pickle.dump(svm_1,f)"
      ]
    },
    {
      "cell_type": "markdown",
      "id": "c5a889c6",
      "metadata": {
        "id": "c5a889c6",
        "papermill": {
          "duration": 0.09983,
          "end_time": "2022-10-06T21:19:39.665236",
          "exception": false,
          "start_time": "2022-10-06T21:19:39.565406",
          "status": "completed"
        },
        "tags": []
      },
      "source": [
        "---"
      ]
    }
  ],
  "metadata": {
    "colab": {
      "provenance": []
    },
    "kernelspec": {
      "display_name": "Python 3",
      "language": "python",
      "name": "python3"
    },
    "language_info": {
      "codemirror_mode": {
        "name": "ipython",
        "version": 3
      },
      "file_extension": ".py",
      "mimetype": "text/x-python",
      "name": "python",
      "nbconvert_exporter": "python",
      "pygments_lexer": "ipython3",
      "version": "3.9.12"
    },
    "papermill": {
      "default_parameters": {},
      "duration": 2519.778234,
      "end_time": "2022-10-06T21:56:55.691983",
      "environment_variables": {},
      "exception": null,
      "input_path": "__notebook__.ipynb",
      "output_path": "__notebook__.ipynb",
      "parameters": {},
      "start_time": "2022-10-06T21:14:55.913749",
      "version": "2.3.4"
    }
  },
  "nbformat": 4,
  "nbformat_minor": 5
}
